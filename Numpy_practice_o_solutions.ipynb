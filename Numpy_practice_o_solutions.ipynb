{
  "cells": [
    {
      "cell_type": "code",
      "execution_count": null,
      "metadata": {
        "id": "YAvC8k1FKC6i"
      },
      "outputs": [],
      "source": [
        "import numpy as np"
      ]
    },
    {
      "cell_type": "markdown",
      "metadata": {
        "id": "z-ttfWOCWYAD"
      },
      "source": [
        "### Basic Array Creation"
      ]
    },
    {
      "cell_type": "markdown",
      "metadata": {
        "id": "ZksDKlwjHvFV"
      },
      "source": [
        "# Creatation of List\n",
        "create List in python? # Check Type of list"
      ]
    },
    {
      "cell_type": "code",
      "execution_count": null,
      "metadata": {
        "id": "mCgQsxXkF3nb"
      },
      "outputs": [],
      "source": [
        "mlist = [1,2,3,4,5,6,35,\"string\"]"
      ]
    },
    {
      "cell_type": "code",
      "source": [
        "type(mlist)\n",
        "# Function type, Shows the type of the data structure"
      ],
      "metadata": {
        "colab": {
          "base_uri": "https://localhost:8080/"
        },
        "id": "FA-KWLw-_qIZ",
        "outputId": "4fdd9f52-ab42-4d34-f4a6-25517dcf0aba"
      },
      "execution_count": null,
      "outputs": [
        {
          "output_type": "execute_result",
          "data": {
            "text/plain": [
              "list"
            ]
          },
          "metadata": {},
          "execution_count": 98
        }
      ]
    },
    {
      "cell_type": "markdown",
      "metadata": {
        "id": "M2TOiuioIc6M"
      },
      "source": [
        "# Creatation of Arrays\n",
        "1.Create an array containing 10 elements\n",
        "\n",
        "2.Checking array \"TYPE\"\n",
        "\n",
        "3.Check data type of array elements\n",
        "\n",
        "4.Array dim\n",
        "\n",
        "5.Array Shape\n",
        "\n",
        "6.Bytes per element\n",
        "\n",
        "7.Total bytes in an Array"
      ]
    },
    {
      "cell_type": "code",
      "execution_count": null,
      "metadata": {
        "id": "uy_hPIW4A4uM",
        "colab": {
          "base_uri": "https://localhost:8080/"
        },
        "outputId": "d8c4b3ca-707e-4601-c1b5-2cdb7705a1b1"
      },
      "outputs": [
        {
          "output_type": "stream",
          "name": "stdout",
          "text": [
            "[ 1  2  3  4  5  6  7  8  9 10]\n"
          ]
        }
      ],
      "source": [
        "# Let's do all these steps in similar order\n",
        "\n",
        "# 1. Creation of array containing ten elements\n",
        "\n",
        "ar1 = np.array([1,2,3,4,5,6,7,8,9,10])\n",
        "print(ar1)"
      ]
    },
    {
      "cell_type": "code",
      "source": [
        "type(ar1)\n",
        "# 2. Shows the type of array"
      ],
      "metadata": {
        "colab": {
          "base_uri": "https://localhost:8080/"
        },
        "id": "d4zKkTBNAF0l",
        "outputId": "7babc48c-5e07-4aa7-d110-482d34d52e3c"
      },
      "execution_count": null,
      "outputs": [
        {
          "output_type": "execute_result",
          "data": {
            "text/plain": [
              "numpy.ndarray"
            ]
          },
          "metadata": {},
          "execution_count": 100
        }
      ]
    },
    {
      "cell_type": "code",
      "source": [
        "ar1.dtype\n",
        "# 3. Shows the types of elements in array"
      ],
      "metadata": {
        "colab": {
          "base_uri": "https://localhost:8080/"
        },
        "id": "5QgGoHeuAFxI",
        "outputId": "1cf2e3ce-1934-4446-c309-2e85d0ba8410"
      },
      "execution_count": null,
      "outputs": [
        {
          "output_type": "execute_result",
          "data": {
            "text/plain": [
              "dtype('int64')"
            ]
          },
          "metadata": {},
          "execution_count": 101
        }
      ]
    },
    {
      "cell_type": "code",
      "source": [
        "ar1.ndim\n",
        "# 4.  Shows the dim of the array"
      ],
      "metadata": {
        "colab": {
          "base_uri": "https://localhost:8080/"
        },
        "id": "Nz3Q8COeAFtG",
        "outputId": "e881a38b-5b32-422e-db77-0a3242535897"
      },
      "execution_count": null,
      "outputs": [
        {
          "output_type": "execute_result",
          "data": {
            "text/plain": [
              "1"
            ]
          },
          "metadata": {},
          "execution_count": 102
        }
      ]
    },
    {
      "cell_type": "code",
      "source": [
        "ar1.shape\n",
        "# 5. Shows the shape of the array"
      ],
      "metadata": {
        "colab": {
          "base_uri": "https://localhost:8080/"
        },
        "id": "HjjrH2ZEAFp9",
        "outputId": "3d2d90b5-926a-4aa8-c915-885bbaf62e01"
      },
      "execution_count": null,
      "outputs": [
        {
          "output_type": "execute_result",
          "data": {
            "text/plain": [
              "(10,)"
            ]
          },
          "metadata": {},
          "execution_count": 103
        }
      ]
    },
    {
      "cell_type": "code",
      "source": [
        "ar1.itemsize\n",
        "# 6. Every item has 8 bytes"
      ],
      "metadata": {
        "colab": {
          "base_uri": "https://localhost:8080/"
        },
        "id": "oRTj1jJzAbMY",
        "outputId": "1217316e-ceda-4a18-cc94-33cd639d214f"
      },
      "execution_count": null,
      "outputs": [
        {
          "output_type": "execute_result",
          "data": {
            "text/plain": [
              "8"
            ]
          },
          "metadata": {},
          "execution_count": 104
        }
      ]
    },
    {
      "cell_type": "code",
      "source": [
        "ar1.nbytes\n",
        "# 7. Total bytes in an array"
      ],
      "metadata": {
        "colab": {
          "base_uri": "https://localhost:8080/"
        },
        "id": "SUMj6WxZAbKe",
        "outputId": "2d889448-cf33-48e5-db10-a549b7c00a37"
      },
      "execution_count": null,
      "outputs": [
        {
          "output_type": "execute_result",
          "data": {
            "text/plain": [
              "80"
            ]
          },
          "metadata": {},
          "execution_count": 105
        }
      ]
    },
    {
      "cell_type": "code",
      "execution_count": null,
      "metadata": {
        "id": "tf9pmYpYLuEu",
        "colab": {
          "base_uri": "https://localhost:8080/"
        },
        "outputId": "e3bab4d5-ef87-4d39-e2dc-06b3cf857a44"
      },
      "outputs": [
        {
          "output_type": "stream",
          "name": "stdout",
          "text": [
            "[ 1.  2.  3.  4.  5.  6.  7.  8.  9. 10.]\n"
          ]
        }
      ],
      "source": [
        "# Create 'float' array and repeat above mention steps 1-7\n",
        "# Repeating all the steps in the same order on floats\n",
        "\n",
        "ar2 = np.array([1,2,3,4,5,6,7,8,9,10],dtype = float)\n",
        "print(ar2)\n",
        "# 2. Creates an array containing float elements"
      ]
    },
    {
      "cell_type": "code",
      "source": [
        "# Let's do all the remaining operations in a single cell\n",
        "# Since we cannot use the type function for an array containing float elements\n",
        "\n",
        "# 3. Checking the data type of array elements\n",
        "a1 = ar2.dtype\n",
        "print (\"The type of elements in array is\",a1)\n",
        "print()\n",
        "\n",
        "# 4. Checking the dim of the array\n",
        "a2 = ar2.ndim\n",
        "print (\"The array is of dimension\",a2)\n",
        "print()\n",
        "\n",
        "# 5. Checking the shape of the array\n",
        "a3 = ar2.shape\n",
        "print (\"The array has\",a3,\"elements\")\n",
        "print()\n",
        "\n",
        "# 6. Checking the memory used by each element\n",
        "a4 = ar2.itemsize\n",
        "print (\"Every item has\",a4,\"bytes\")\n",
        "print()\n",
        "\n",
        "# 7. Checking the total memory consumed by an array\n",
        "a5 = ar2.nbytes\n",
        "print (\"Total bytes in an array is\",a5,\"bytes\")\n",
        "\n"
      ],
      "metadata": {
        "colab": {
          "base_uri": "https://localhost:8080/"
        },
        "id": "E_hD9sclPMDZ",
        "outputId": "2a41fa6b-b1f1-47a7-f8b7-d49aecb3460d"
      },
      "execution_count": null,
      "outputs": [
        {
          "output_type": "stream",
          "name": "stdout",
          "text": [
            "The type of elements in array is float64\n",
            "\n",
            "The array is of dimension 1\n",
            "\n",
            "The array has (10,) elements\n",
            "\n",
            "Every item has 8 bytes\n",
            "\n",
            "Total bytes in an array is 80 bytes\n"
          ]
        }
      ]
    },
    {
      "cell_type": "markdown",
      "metadata": {
        "id": "czi-ntWzFJ0M"
      },
      "source": [
        "-Try to assign a float into an int32\n",
        "\n",
        "-Use .fill function # fill has the same behavior\n"
      ]
    },
    {
      "cell_type": "code",
      "execution_count": null,
      "metadata": {
        "id": "5r2iCLhHFq_-",
        "colab": {
          "base_uri": "https://localhost:8080/"
        },
        "outputId": "b0cd24db-46f7-4c79-b1f2-a28bd37a1666"
      },
      "outputs": [
        {
          "output_type": "stream",
          "name": "stdout",
          "text": [
            "[ 1  2  3  4  5  6  7  8  9 10]\n"
          ]
        }
      ],
      "source": [
        "# First creating int32 elements\n",
        "ar3 = np.array([1,2,3,4,5,6,7,8,9,10],dtype = 'int32')\n",
        "print(ar3)"
      ]
    },
    {
      "cell_type": "code",
      "source": [
        "# Lets assign a float into int32\n",
        "ar3[1] = 3.5\n",
        "print(ar3)\n",
        "print()\n",
        "#  Shows that we array cannot except a float value into int32\n",
        "\n",
        "# Now fill the value with any int\n",
        "ar3.fill(-5.0)\n",
        "print(ar3)\n",
        "# See that assigning a float to a int32 and filling an array with float has the same behaviour"
      ],
      "metadata": {
        "colab": {
          "base_uri": "https://localhost:8080/"
        },
        "id": "R25ys7BBow8e",
        "outputId": "161cc75c-1b6a-44a1-dd1a-4b84711f44b3"
      },
      "execution_count": null,
      "outputs": [
        {
          "output_type": "stream",
          "name": "stdout",
          "text": [
            "[ 1  3  3  4  5  6  7  8  9 10]\n",
            "\n",
            "[-5 -5 -5 -5 -5 -5 -5 -5 -5 -5]\n"
          ]
        }
      ]
    },
    {
      "cell_type": "markdown",
      "metadata": {
        "id": "UK4-Grt0F8_k"
      },
      "source": [
        "-. Add two  arrays\n",
        "\n",
        "-. Multiple both arrays\n",
        "\n",
        "-.Use ** operator in array operation\n",
        "\n",
        "-.Create array from 0.0 to 11.0\n",
        "\n",
        "-.Multiply entire array with a scalar value\n",
        " c = (2.0 * np.pi)\n",
        "\n",
        "-.Use np.arrange function to create an array with step of 0.5 from 1.0 to 3.0"
      ]
    },
    {
      "cell_type": "code",
      "execution_count": null,
      "metadata": {
        "id": "1cRgGYTdGayU",
        "colab": {
          "base_uri": "https://localhost:8080/"
        },
        "outputId": "e9e2b3da-0f0f-4324-dc84-95f3a58bb32e"
      },
      "outputs": [
        {
          "output_type": "stream",
          "name": "stdout",
          "text": [
            "[ 8 10 12 14 16 18]\n",
            "\n",
            "[ 7 16 27 40 55 72]\n",
            "\n",
            "[         1        256      19683    1048576   48828125 2176782336]\n",
            "\n"
          ]
        }
      ],
      "source": [
        "# Let's do all the operations in a single cell\n",
        "\n",
        "ar4 = np.array([1,2,3,4,5,6])\n",
        "ar5 = np.array([7,8,9,10,11,12])\n",
        "\n",
        "# Adding ar4 and ar5\n",
        "print(ar4 + ar5)\n",
        "print()\n",
        "\n",
        "# Multiplying ar4 and ar5\n",
        "print(ar4 * ar5)\n",
        "print()\n",
        "\n",
        "# Using the ar5 as the power of ar4\n",
        "print(ar4 ** ar5)\n",
        "print()"
      ]
    },
    {
      "cell_type": "code",
      "source": [
        "# Creating array from 0.0 to 11.0\n",
        "ar6 = np.array([0.0,1.0,2.0,3.0,4.0,5.0,6.0,7.0,8.0,9.0,10.0])\n",
        "print(ar6)\n",
        "print()\n",
        "\n",
        "# To multipy array with constant lets first define a constant\n",
        "c = 2.0*np.pi\n",
        "ar6  = ar6* c\n",
        "print(ar6)"
      ],
      "metadata": {
        "colab": {
          "base_uri": "https://localhost:8080/"
        },
        "id": "WIiVQ_x4rjLZ",
        "outputId": "fb0c24ff-883f-4b1c-9ad0-46bd385790bb"
      },
      "execution_count": null,
      "outputs": [
        {
          "output_type": "stream",
          "name": "stdout",
          "text": [
            "[ 0.  1.  2.  3.  4.  5.  6.  7.  8.  9. 10.]\n",
            "\n",
            "[ 0.          6.28318531 12.56637061 18.84955592 25.13274123 31.41592654\n",
            " 37.69911184 43.98229715 50.26548246 56.54866776 62.83185307]\n"
          ]
        }
      ]
    },
    {
      "cell_type": "code",
      "source": [
        "# Creating array using np.arange function and set stepsize = 0.5\n",
        "ar7 = np.arange(1.0,3.0,0.5)\n",
        "print(ar7)"
      ],
      "metadata": {
        "colab": {
          "base_uri": "https://localhost:8080/"
        },
        "id": "L3BaZwv-ri-Y",
        "outputId": "7ab75ba5-69c8-47dc-d375-428372cd0bf9"
      },
      "execution_count": null,
      "outputs": [
        {
          "output_type": "stream",
          "name": "stdout",
          "text": [
            "[1.  1.5 2.  2.5]\n"
          ]
        }
      ]
    },
    {
      "cell_type": "markdown",
      "metadata": {
        "id": "60fA9aHmI0g_"
      },
      "source": [
        "# Slicing\n",
        "var[lower:upper:step]\n",
        "• Extracts a portion of a sequence by specifying a lower and upper bound.\n",
        "\n",
        "• The lower-bound element is included, but the upper-bound element is not included.\n",
        "\n",
        "• Mathematically: [lower, upper). The step value specifies the stride between elements.\n",
        "\n",
        "1. Etract array indices from 1 to 3:\n",
        "2. Use negative indices as well\n",
        "3. Omitted boundaries are assumed to be the beginning (or end) of the array grab first three elements\n",
        "4. Grab last two elements\n",
        "5. Grab every other element\n",
        "6. slicing the last two elements returns the data there\n",
        "7. Can we insert an iterable of length two? or a scalar value\n",
        "8.Arrays created by slicing share data with the originating array. Changing values in a slice also changes the original array.\n",
        "For example create a slice containing two elements of a changing b changed a! Have an experiment\n",
        "9. if an array a = [[0, 1, 2, 3, 4],[1, 2, 3, 4, 5]] extract values from row 3 to onward and from col 0, 2 and 5\n",
        "10. Perform some masking on a = np.arange(0,36).reshape(6,6)\n",
        "with mask = np.array([1, 0, 1, 0, 0, 1])\n"
      ]
    },
    {
      "cell_type": "code",
      "execution_count": null,
      "metadata": {
        "id": "CVqexfEBMB-w",
        "colab": {
          "base_uri": "https://localhost:8080/"
        },
        "outputId": "7dce86fb-38d1-4b46-a131-0f5661fbd7d6"
      },
      "outputs": [
        {
          "output_type": "stream",
          "name": "stdout",
          "text": [
            "[2 3 4]\n",
            "\n",
            "[3 4 5 6 7]\n"
          ]
        }
      ],
      "source": [
        "# Lets create an array first\n",
        "ar8 = np.array([1,2,3,4,5,6,7,8,9,10])\n",
        "              #\n",
        "# 1. Extracting elements from indices 1 to 3\n",
        "sliced_ar = ar8[1:4]\n",
        "print(sliced_ar)\n",
        "print()\n",
        "\n",
        "# 2.  Extracting elements from indices 2 to 6 using negative indixing\n",
        "sliced_ar = ar8[-8:-3]\n",
        "print(sliced_ar)"
      ]
    },
    {
      "cell_type": "code",
      "source": [
        "# 3.  Assuming the omitted boundaries are the beginning or end grab first 3 elements\n",
        "\n",
        "ar8 = np.array([1,2,3,4,5,6,7,8,9,10])\n",
        "print(ar8)\n",
        "print()\n",
        "\n",
        "#  Grabing first three elements from beginning\n",
        "sliced_ar = ar8[:3]\n",
        "print(sliced_ar)\n",
        "print()\n",
        "\n",
        "#  Grabing first three elements from negative indexing\n",
        "\n",
        "sliced_ar = ar8[-10:-7]\n",
        "print(sliced_ar)"
      ],
      "metadata": {
        "colab": {
          "base_uri": "https://localhost:8080/"
        },
        "id": "MeuNqJxfzqv3",
        "outputId": "abdf2d4c-bb5d-412e-d9cb-c1c4faf2dfc3"
      },
      "execution_count": null,
      "outputs": [
        {
          "output_type": "stream",
          "name": "stdout",
          "text": [
            "[ 1  2  3  4  5  6  7  8  9 10]\n",
            "\n",
            "[1 2 3]\n",
            "\n",
            "[1 2 3]\n"
          ]
        }
      ]
    },
    {
      "cell_type": "code",
      "source": [
        "ar8 = np.array([1,2,3,4,5,6,7,8,9,10])\n",
        "print(ar8)\n",
        "print()\n",
        "\n",
        "# 4. Grabing last two elements\n",
        "sliced_ar = ar8[-2:]\n",
        "print(sliced_ar)\n",
        "print()\n",
        "\n",
        "# 5. Grabing every other element\n",
        "sliced_ar = ar8[::2]\n",
        "print(sliced_ar)\n",
        "print()\n",
        "\n"
      ],
      "metadata": {
        "colab": {
          "base_uri": "https://localhost:8080/"
        },
        "id": "J6C-JH2l2B1Y",
        "outputId": "8eaf2aaf-1a1f-4546-ed32-8072df98594b"
      },
      "execution_count": null,
      "outputs": [
        {
          "output_type": "stream",
          "name": "stdout",
          "text": [
            "[ 1  2  3  4  5  6  7  8  9 10]\n",
            "\n",
            "[ 9 10]\n",
            "\n",
            "[1 3 5 7 9]\n",
            "\n"
          ]
        }
      ]
    },
    {
      "cell_type": "code",
      "source": [
        "ar8 = np.array([1,2,3,4,5,6,7,8,9,10])\n",
        "print(ar8)\n",
        "print()\n",
        "\n",
        "# 6. slicing the last two elements returns the data there\n",
        "sliced_ar = ar8[-2:]\n",
        "print(sliced_ar)\n",
        "print()\n",
        "\n",
        "# 7. Yes we can isert an iterable of length two\n",
        "iterable = [1,2]\n",
        "np.insert(ar8,2,iterable)\n",
        "print(ar8)\n",
        "print()\n",
        "# Check we have inserted an iterable of length two\n",
        "\n"
      ],
      "metadata": {
        "colab": {
          "base_uri": "https://localhost:8080/"
        },
        "id": "9ZfSEb-k2iC7",
        "outputId": "e079f526-3962-4093-de60-106cef06b277"
      },
      "execution_count": null,
      "outputs": [
        {
          "output_type": "stream",
          "name": "stdout",
          "text": [
            "[ 1  2  3  4  5  6  7  8  9 10]\n",
            "\n",
            "[ 9 10]\n",
            "\n",
            "[ 1  2  3  4  5  6  7  8  9 10]\n",
            "\n"
          ]
        }
      ]
    },
    {
      "cell_type": "code",
      "source": [
        "# 8. Yes changing data in slice array changed in original array, let's see how\n",
        "ar9 = np.array([0,1,2,3,4,5,6,7,8,9])\n",
        "print(ar9)\n",
        "print()\n",
        "\n",
        "# define a sliced array\n",
        "sliced_ar = ar9[1:5]\n",
        "print(sliced_ar)\n",
        "#  Now change the data in sliced array\n",
        "sliced_ar[0:2]= 50\n",
        "print(sliced_ar)\n",
        "print()\n",
        "\n",
        "# Now check the original array\n",
        "print(ar9)\n",
        "\n",
        "\n",
        "# See the data has been changed in the original array"
      ],
      "metadata": {
        "colab": {
          "base_uri": "https://localhost:8080/"
        },
        "id": "fvkekZtB7lV_",
        "outputId": "519cb03e-29fe-4f7e-edbc-0106b6b4cd07"
      },
      "execution_count": null,
      "outputs": [
        {
          "output_type": "stream",
          "name": "stdout",
          "text": [
            "[0 1 2 3 4 5 6 7 8 9]\n",
            "\n",
            "[1 2 3 4]\n",
            "[50 50  3  4]\n",
            "\n",
            "[ 0 50 50  3  4  5  6  7  8  9]\n"
          ]
        }
      ]
    },
    {
      "cell_type": "code",
      "source": [
        "#  9. Now get the required results from 1 array and 0,2,4 columns\n",
        "\n",
        "a = np.array([[0, 1, 2, 3, 4],[1, 2, 3, 4, 5]])\n",
        "a[1,[0,2,4]]"
      ],
      "metadata": {
        "colab": {
          "base_uri": "https://localhost:8080/"
        },
        "id": "w7C24bztKWjd",
        "outputId": "8bd0e449-030b-4fdf-eebc-094280931400"
      },
      "execution_count": null,
      "outputs": [
        {
          "output_type": "execute_result",
          "data": {
            "text/plain": [
              "array([1, 3, 5])"
            ]
          },
          "metadata": {},
          "execution_count": 128
        }
      ]
    },
    {
      "cell_type": "code",
      "source": [
        "# 10,performing masking\n",
        "a = np.arange(0,36).reshape(6,6)\n",
        "print(a)\n",
        "print()\n",
        "mask = np.array([1, 0, 1, 0, 0, 1],dtype=bool)\n",
        "a = a[mask,2]\n",
        "print(a)\n",
        "\n",
        "# Getting the first third and sixth element from the second column using mask"
      ],
      "metadata": {
        "colab": {
          "base_uri": "https://localhost:8080/"
        },
        "id": "SJArAVD-LVe5",
        "outputId": "e5a245a0-2141-43e4-cf9c-7aa556c46199"
      },
      "execution_count": null,
      "outputs": [
        {
          "output_type": "stream",
          "name": "stdout",
          "text": [
            "[[ 0  1  2  3  4  5]\n",
            " [ 6  7  8  9 10 11]\n",
            " [12 13 14 15 16 17]\n",
            " [18 19 20 21 22 23]\n",
            " [24 25 26 27 28 29]\n",
            " [30 31 32 33 34 35]]\n",
            "\n",
            "[ 2 14 32]\n"
          ]
        }
      ]
    },
    {
      "cell_type": "markdown",
      "metadata": {
        "id": "Cu7lopYK-knI"
      },
      "source": [
        "### Create a 2-D array where the first row goes from 10 to 80 exclusive with steps of 5 and 2nd row goes from 5 to 47 exclusive with steps of 3"
      ]
    },
    {
      "cell_type": "code",
      "execution_count": null,
      "metadata": {
        "colab": {
          "base_uri": "https://localhost:8080/"
        },
        "id": "Uq_IUs0F-knI",
        "outputId": "b4190610-b19c-4a74-e612-6147a16f30a3"
      },
      "outputs": [
        {
          "output_type": "stream",
          "name": "stdout",
          "text": [
            "[[10 15 20 25 30 35 40 45 50 55 60 65 70 75]\n",
            " [ 5  8 11 14 17 20 23 26 29 32 35 38 41 44]]\n",
            "2\n"
          ]
        }
      ],
      "source": [
        "# Creating a matrix\n",
        "ar10 = np.array([np.arange(10,80,5),np.arange(5,47,3)])\n",
        "print(ar10)\n",
        "\n",
        "# Check the dimension of the matrix\n",
        "print(ar10.ndim)"
      ]
    },
    {
      "cell_type": "markdown",
      "metadata": {
        "id": "SaEMf8HM-knI"
      },
      "source": [
        "### Now use indexing to select the 5th 7th and 11th columns"
      ]
    },
    {
      "cell_type": "code",
      "execution_count": null,
      "metadata": {
        "colab": {
          "base_uri": "https://localhost:8080/"
        },
        "id": "M65_oqA5-knI",
        "outputId": "2dcf955f-d3cc-4aa0-c5e4-d8ab77b06e83"
      },
      "outputs": [
        {
          "output_type": "execute_result",
          "data": {
            "text/plain": [
              "array([[35, 45, 65],\n",
              "       [20, 26, 38]])"
            ]
          },
          "metadata": {},
          "execution_count": 119
        }
      ],
      "source": [
        "# Selecting 5,7,and 11th column\n",
        "ar10[0:,[5,7,11]]"
      ]
    },
    {
      "cell_type": "markdown",
      "metadata": {
        "id": "46OPRxPv-knJ"
      },
      "source": [
        "### Select the 2nd row and fourth-last to second-last columns"
      ]
    },
    {
      "cell_type": "code",
      "execution_count": null,
      "metadata": {
        "colab": {
          "base_uri": "https://localhost:8080/"
        },
        "id": "CA3Ai0DT-knJ",
        "outputId": "42529194-3f7b-4849-8bb2-11f21b3841a6"
      },
      "outputs": [
        {
          "output_type": "execute_result",
          "data": {
            "text/plain": [
              "array([35, 38, 41])"
            ]
          },
          "metadata": {},
          "execution_count": 120
        }
      ],
      "source": [
        "ar10[1,-4:-1]\n",
        "# gives the result"
      ]
    },
    {
      "cell_type": "markdown",
      "metadata": {
        "id": "NrxOitgP-knJ"
      },
      "source": [
        "### Select 3rd to 3rd last columns skipping every second column"
      ]
    },
    {
      "cell_type": "code",
      "execution_count": null,
      "metadata": {
        "colab": {
          "base_uri": "https://localhost:8080/"
        },
        "id": "wVrxnqxx-knJ",
        "outputId": "bc201eeb-cca1-44b5-f19f-e3425ca4677e"
      },
      "outputs": [
        {
          "output_type": "execute_result",
          "data": {
            "text/plain": [
              "array([[20, 30, 40, 50, 60],\n",
              "       [11, 17, 23, 29, 35]])"
            ]
          },
          "metadata": {},
          "execution_count": 121
        }
      ],
      "source": [
        "ar10[0:,2:-2:2]\n",
        "# Gives the required result"
      ]
    },
    {
      "cell_type": "markdown",
      "metadata": {
        "id": "v0F5hVLQ-knJ"
      },
      "source": [
        "###  Select 3rd to 3rd last columns skipping every second column but in reverse order"
      ]
    },
    {
      "cell_type": "code",
      "source": [
        "ar10[0:,-12:-2:2][::-1]\n",
        "\n",
        "#  gives the required result"
      ],
      "metadata": {
        "colab": {
          "base_uri": "https://localhost:8080/"
        },
        "id": "Iz5GaZ7DADbm",
        "outputId": "d9398b6d-27df-4ead-9850-2cb5082b1130"
      },
      "execution_count": null,
      "outputs": [
        {
          "output_type": "execute_result",
          "data": {
            "text/plain": [
              "array([[11, 17, 23, 29, 35],\n",
              "       [20, 30, 40, 50, 60]])"
            ]
          },
          "metadata": {},
          "execution_count": 122
        }
      ]
    },
    {
      "cell_type": "markdown",
      "metadata": {
        "id": "uO-B0OXYWl7A"
      },
      "source": [
        "### Zip Operations on Numpy Arrays\n",
        "Use a zip function on two arrys.\n",
        "\n",
        "Create another array which would be the sum of corresponding elements of two arrays using for loop."
      ]
    },
    {
      "cell_type": "code",
      "execution_count": null,
      "metadata": {
        "id": "QWAhbiOXHEc9",
        "colab": {
          "base_uri": "https://localhost:8080/"
        },
        "outputId": "a05af08b-0e1f-4d51-c49e-cf7d5d02edb6"
      },
      "outputs": [
        {
          "output_type": "stream",
          "name": "stdout",
          "text": [
            "[[1 2]\n",
            " [2 3]\n",
            " [3 4]\n",
            " [4 5]]\n"
          ]
        }
      ],
      "source": [
        "a = [1, 2, 3, 4]\n",
        "b = [2, 3, 4, 5]\n",
        "\n",
        "# Using zip function to combine both arrays\n",
        "# First convert them into arrays\n",
        "\n",
        "a = np.array(a)\n",
        "b = np.array(b)\n",
        "c = np.array(list(zip(a,b)))\n",
        "print(c)"
      ]
    },
    {
      "cell_type": "code",
      "source": [
        "# Create another array which would be the sum of corresponding elements of two arrays using for loop.\n",
        "a = [1, 2, 3, 4]\n",
        "b = [2, 3, 4, 5]\n",
        "c = []\n",
        "for i,j in (zip(a,b)):\n",
        "    c.append(i+j)\n",
        "print(c)\n",
        "\n",
        "# Result achieved"
      ],
      "metadata": {
        "colab": {
          "base_uri": "https://localhost:8080/"
        },
        "id": "J48dSsfFEdPC",
        "outputId": "26da3ef9-830f-4110-b39b-65e0f6fd0c64"
      },
      "execution_count": null,
      "outputs": [
        {
          "output_type": "stream",
          "name": "stdout",
          "text": [
            "[3, 5, 7, 9]\n"
          ]
        }
      ]
    },
    {
      "cell_type": "code",
      "source": [
        "# Thanks"
      ],
      "metadata": {
        "id": "1JNElO9REcDc"
      },
      "execution_count": null,
      "outputs": []
    }
  ],
  "metadata": {
    "colab": {
      "provenance": []
    },
    "kernelspec": {
      "display_name": "Python 3",
      "name": "python3"
    },
    "language_info": {
      "name": "python"
    }
  },
  "nbformat": 4,
  "nbformat_minor": 0
}