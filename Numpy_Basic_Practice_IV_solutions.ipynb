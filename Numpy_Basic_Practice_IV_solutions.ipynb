{
  "cells": [
    {
      "cell_type": "markdown",
      "id": "bac7cbe2",
      "metadata": {
        "id": "bac7cbe2"
      },
      "source": [
        "# Problem 1: Reshaping for Image Processing\n",
        "You are working on an image processing project, and you have a grayscale image represented as a 1D NumPy array **img_data** of size **(m * n)**, where m and n are the dimensions of the image. Write a function **reshape_image(img_data, new_shape)** that takes the original image data and a tuple representing the new shape **(p, q)** of the image. Ensure that the total number of pixels remains unchanged. If it's not possible to reshape without changing the total number of pixels, return **None**."
      ]
    },
    {
      "cell_type": "code",
      "execution_count": null,
      "id": "89bf2b86",
      "metadata": {
        "id": "89bf2b86"
      },
      "outputs": [],
      "source": [
        "def reshape_image(image_data,new_array_shape):\n",
        "  original_size = image_data.size\n",
        "  new_array_size = new_array_shape[0]*new_array_shape[1]\n",
        "\n",
        "  if original_size == new_array_size:\n",
        "    reshaped_image = image_data.reshape(new_array_shape)\n",
        "    return reshaped_image\n",
        "  else:\n",
        "    print('None')"
      ]
    },
    {
      "cell_type": "code",
      "execution_count": null,
      "id": "9a7a3b17",
      "metadata": {
        "id": "9a7a3b17",
        "colab": {
          "base_uri": "https://localhost:8080/"
        },
        "outputId": "5dc8f4d0-e028-4b0f-9909-1b1aadd5c4f5"
      },
      "outputs": [
        {
          "output_type": "stream",
          "name": "stdout",
          "text": [
            "[[0 1 2]\n",
            " [3 4 5]\n",
            " [6 7 8]]\n"
          ]
        }
      ],
      "source": [
        "import numpy as np\n",
        "\n",
        "img_data = np.arange(9)  # Assuming a 3x3 image\n",
        "new_shape = (3, 3)\n",
        "\n",
        "result = reshape_image(img_data, new_shape)\n",
        "print(result)"
      ]
    },
    {
      "cell_type": "code",
      "source": [
        "#  Let's call a function for an other array of new shape\n",
        "\n",
        "image_data = np.arange(10)\n",
        "new_shape = (3,3)\n",
        "results = reshape_image(image_data,new_shape)\n",
        "print(results)"
      ],
      "metadata": {
        "colab": {
          "base_uri": "https://localhost:8080/"
        },
        "id": "KMMRstuQ36VZ",
        "outputId": "12334a00-14bf-437f-9775-1396c2aba862"
      },
      "id": "KMMRstuQ36VZ",
      "execution_count": null,
      "outputs": [
        {
          "output_type": "stream",
          "name": "stdout",
          "text": [
            "None\n",
            "None\n"
          ]
        }
      ]
    },
    {
      "cell_type": "markdown",
      "id": "f26eada3",
      "metadata": {
        "id": "f26eada3"
      },
      "source": [
        "# Problem 2: Matrix Transpose\n",
        "You are dealing with a dataset stored as a NumPy array **data_matrix** with dimensions **(m, n)**. Implement a function **transpose_matrix(data_matrix)** that returns the transpose of the given matrix."
      ]
    },
    {
      "cell_type": "code",
      "execution_count": null,
      "id": "96da3b85",
      "metadata": {
        "id": "96da3b85"
      },
      "outputs": [],
      "source": [
        "#  Defining a function that\n",
        "def transpose_matrix(data_matrix):\n",
        "  transposed_matrix = data_matrix.T\n",
        "  return transposed_matrix"
      ]
    },
    {
      "cell_type": "code",
      "execution_count": null,
      "id": "ae176a7e",
      "metadata": {
        "id": "ae176a7e",
        "colab": {
          "base_uri": "https://localhost:8080/"
        },
        "outputId": "562f629c-f41e-4de1-cf54-d57390e32bb5"
      },
      "outputs": [
        {
          "output_type": "stream",
          "name": "stdout",
          "text": [
            "[[1 2 3]\n",
            " [4 5 6]]\n",
            "\n",
            "[[1 4]\n",
            " [2 5]\n",
            " [3 6]]\n"
          ]
        }
      ],
      "source": [
        "import numpy as np\n",
        "\n",
        "data_matrix = np.array([[1, 2, 3], [4, 5, 6]])\n",
        "print(data_matrix)\n",
        "print()\n",
        "transposed_matrix = transpose_matrix(data_matrix)\n",
        "print(transposed_matrix)"
      ]
    },
    {
      "cell_type": "markdown",
      "id": "60caff17",
      "metadata": {
        "id": "60caff17"
      },
      "source": [
        "# Problem 3: Flattening for Data Processing\n",
        "You have a 2D array representing data from different sensors. Write a function **flatten_sensor_data(sensor_data)** that takes a 2D NumPy array representing the sensor readings and returns a flattened 1D array."
      ]
    },
    {
      "cell_type": "code",
      "execution_count": null,
      "id": "2070bb01",
      "metadata": {
        "id": "2070bb01"
      },
      "outputs": [],
      "source": [
        "def flatten_sensor_data(sensor_data):\n",
        "  flattened_sensored_data = sensor_data.flatten()\n",
        "  return flattened_sensored_data"
      ]
    },
    {
      "cell_type": "code",
      "execution_count": null,
      "id": "ddb929ee",
      "metadata": {
        "id": "ddb929ee",
        "colab": {
          "base_uri": "https://localhost:8080/"
        },
        "outputId": "885bb467-7503-4366-895a-8568bfcbd5da"
      },
      "outputs": [
        {
          "output_type": "stream",
          "name": "stdout",
          "text": [
            "[10 20 30 40 50 60]\n"
          ]
        }
      ],
      "source": [
        "import numpy as np\n",
        "\n",
        "sensor_data = np.array([[10, 20, 30], [40, 50, 60]])\n",
        "flattened_data = flatten_sensor_data(sensor_data)\n",
        "print(flattened_data)"
      ]
    },
    {
      "cell_type": "code",
      "source": [],
      "metadata": {
        "id": "N-bGubBvBtdK"
      },
      "id": "N-bGubBvBtdK",
      "execution_count": null,
      "outputs": []
    }
  ],
  "metadata": {
    "kernelspec": {
      "display_name": "Python 3 (ipykernel)",
      "language": "python",
      "name": "python3"
    },
    "language_info": {
      "codemirror_mode": {
        "name": "ipython",
        "version": 3
      },
      "file_extension": ".py",
      "mimetype": "text/x-python",
      "name": "python",
      "nbconvert_exporter": "python",
      "pygments_lexer": "ipython3",
      "version": "3.11.5"
    },
    "colab": {
      "provenance": []
    }
  },
  "nbformat": 4,
  "nbformat_minor": 5
}