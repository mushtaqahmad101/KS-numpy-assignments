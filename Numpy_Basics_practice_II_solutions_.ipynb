{
  "cells": [
    {
      "cell_type": "code",
      "execution_count": null,
      "id": "2a8a0fa8-ceee-4b65-9739-39bdbf33d23c",
      "metadata": {
        "id": "2a8a0fa8-ceee-4b65-9739-39bdbf33d23c"
      },
      "outputs": [],
      "source": [
        "import numpy as np"
      ]
    },
    {
      "cell_type": "markdown",
      "id": "6cd94836-36bf-4eca-a68c-4d4afb52ef7d",
      "metadata": {
        "id": "6cd94836-36bf-4eca-a68c-4d4afb52ef7d"
      },
      "source": [
        "# Q1"
      ]
    },
    {
      "cell_type": "markdown",
      "id": "26a82645-942a-40ba-9d5b-a58c65d27817",
      "metadata": {
        "id": "26a82645-942a-40ba-9d5b-a58c65d27817"
      },
      "source": [
        "Statement: Given a 3D NumPy array arr of shape (2, 3, 4), write a code snippet to calculate the sum of all elements in the array.\n",
        "\n",
        "Sample Input:"
      ]
    },
    {
      "cell_type": "code",
      "execution_count": null,
      "id": "dbf71bf2-1ac9-48f3-96fb-5f22ad767b29",
      "metadata": {
        "id": "dbf71bf2-1ac9-48f3-96fb-5f22ad767b29",
        "colab": {
          "base_uri": "https://localhost:8080/"
        },
        "outputId": "b8c64156-034f-4365-a2a6-245a3e619ebe"
      },
      "outputs": [
        {
          "output_type": "stream",
          "name": "stdout",
          "text": [
            "156\n",
            "\n"
          ]
        }
      ],
      "source": [
        "array = np.array([[[1,2,3,4],[5,6,7,8],[9,10,11,12]],\n",
        "                  [[1,2,3,4],[5,6,7,8],[9,10,11,12]]])\n",
        "# Calculate the sum of all the elements in the array\n",
        "sum_of_elements = np.sum(array)\n",
        "print(sum_of_elements)\n",
        "print()\n"
      ]
    },
    {
      "cell_type": "markdown",
      "id": "14bd52a2-86d8-4ef6-b1ee-de66e9703458",
      "metadata": {
        "id": "14bd52a2-86d8-4ef6-b1ee-de66e9703458"
      },
      "source": [
        "# Q2"
      ]
    },
    {
      "cell_type": "markdown",
      "id": "9a536e77-25c6-4b63-906b-7aa8eaaa073e",
      "metadata": {
        "id": "9a536e77-25c6-4b63-906b-7aa8eaaa073e"
      },
      "source": [
        "Statement: Write a NumPy code snippet to create a 4D array arr of shape (2, 3, 4, 5) filled with random integers ranging from 0 to 9.\n",
        "\n",
        "Sample Output:"
      ]
    },
    {
      "cell_type": "code",
      "execution_count": null,
      "id": "5602b3f2-13e2-4585-9870-9bc07563c60e",
      "metadata": {
        "id": "5602b3f2-13e2-4585-9870-9bc07563c60e",
        "colab": {
          "base_uri": "https://localhost:8080/"
        },
        "outputId": "4f06503c-d3ed-4854-fc4f-d4efba926004"
      },
      "outputs": [
        {
          "output_type": "stream",
          "name": "stdout",
          "text": [
            "[[[[8 5 7 7 2]\n",
            "   [9 8 0 8 5]\n",
            "   [3 6 1 8 9]\n",
            "   [7 6 0 8 3]]\n",
            "\n",
            "  [[5 9 2 9 9]\n",
            "   [0 2 3 3 5]\n",
            "   [1 3 3 3 2]\n",
            "   [1 7 3 8 0]]\n",
            "\n",
            "  [[1 2 4 9 2]\n",
            "   [4 7 5 3 3]\n",
            "   [9 4 7 8 4]\n",
            "   [1 7 2 4 5]]]\n",
            "\n",
            "\n",
            " [[[1 1 0 6 7]\n",
            "   [0 1 9 0 9]\n",
            "   [5 9 4 5 0]\n",
            "   [3 1 5 2 4]]\n",
            "\n",
            "  [[4 5 7 7 8]\n",
            "   [9 9 2 0 4]\n",
            "   [3 8 2 4 2]\n",
            "   [1 4 3 7 8]]\n",
            "\n",
            "  [[6 2 1 0 4]\n",
            "   [5 6 3 1 0]\n",
            "   [9 2 0 1 9]\n",
            "   [6 7 4 2 2]]]]\n"
          ]
        },
        {
          "output_type": "execute_result",
          "data": {
            "text/plain": [
              "(2, 3, 4, 5)"
            ]
          },
          "metadata": {},
          "execution_count": 9
        }
      ],
      "source": [
        "array = np.random.randint(0,10,size = (2,3,4,5))\n",
        "print(array)\n",
        "array.shape\n"
      ]
    },
    {
      "cell_type": "markdown",
      "id": "540f8d57-6cc0-4e53-8744-787e868276a4",
      "metadata": {
        "id": "540f8d57-6cc0-4e53-8744-787e868276a4"
      },
      "source": [
        "# Q3"
      ]
    },
    {
      "cell_type": "markdown",
      "id": "37497bad-10e3-4c65-b4f6-65bb5ed0b00d",
      "metadata": {
        "id": "37497bad-10e3-4c65-b4f6-65bb5ed0b00d"
      },
      "source": [
        "Statement: Given a 4D NumPy array arr of shape (2, 3, 4, 5), write a code snippet to calculate the mean along the second axis.\n",
        "\n",
        "Sample Input:"
      ]
    },
    {
      "cell_type": "code",
      "execution_count": null,
      "id": "84df3761-5341-4010-b541-6a79a1b74625",
      "metadata": {
        "id": "84df3761-5341-4010-b541-6a79a1b74625",
        "colab": {
          "base_uri": "https://localhost:8080/"
        },
        "outputId": "dd31d46a-9bfc-46c8-f564-13e226ec7add"
      },
      "outputs": [
        {
          "output_type": "stream",
          "name": "stdout",
          "text": [
            "[[[4.66666667 5.33333333 4.33333333 8.33333333 4.33333333]\n",
            "  [4.33333333 5.66666667 2.66666667 4.66666667 4.33333333]\n",
            "  [4.33333333 4.33333333 3.66666667 6.33333333 5.        ]\n",
            "  [3.         6.66666667 1.66666667 6.66666667 2.66666667]]\n",
            "\n",
            " [[3.66666667 2.66666667 2.66666667 4.33333333 6.33333333]\n",
            "  [4.66666667 5.33333333 4.66666667 0.33333333 4.33333333]\n",
            "  [5.66666667 6.33333333 2.         3.33333333 3.66666667]\n",
            "  [3.33333333 4.         4.         3.66666667 4.66666667]]]\n"
          ]
        }
      ],
      "source": [
        "# using the numpy 4d array created\n",
        "array\n",
        "mean = np.mean(array,axis = 1)\n",
        "print(mean)\n"
      ]
    },
    {
      "cell_type": "markdown",
      "id": "9d4cd387-ca18-4951-a1ab-63a7a1f80a0d",
      "metadata": {
        "id": "9d4cd387-ca18-4951-a1ab-63a7a1f80a0d"
      },
      "source": [
        "# Q4"
      ]
    },
    {
      "cell_type": "markdown",
      "id": "768891f0-dd85-4a6b-a336-31061a30945f",
      "metadata": {
        "id": "768891f0-dd85-4a6b-a336-31061a30945f"
      },
      "source": [
        "Statement: You have collected data from a temperature sensor placed at different locations over a period of time. The recorded temperatures are stored in a 3D NumPy array temps of shape (7, 24, 60), where the dimensions represent the number of days, hours in a day, and minutes in an hour, respectively. Write a code snippet to calculate the average temperature for each day.\n",
        "\n",
        "Sample Input:"
      ]
    },
    {
      "cell_type": "code",
      "source": [
        "# Assume the temperature values range from 0 to 100\n",
        "# create a numpy array with shape (7,24,60) filled with random temperature values from 0,100\n",
        "\n",
        "temps = np.random.uniform(0,100,size = (7,24,60))\n",
        "\n",
        "# To calculate the average temperature for each day we need to find the average of hours and minutes\n",
        "\n",
        "average_daily_temp = np.mean(temps,axis = (1,2))\n",
        "print(average_daily_temp)\n",
        "\n",
        "# we have find the average daily temperature"
      ],
      "metadata": {
        "colab": {
          "base_uri": "https://localhost:8080/"
        },
        "id": "Jgsedj43w0bx",
        "outputId": "ca7e4ca9-bced-4729-a46a-75650dad9596"
      },
      "id": "Jgsedj43w0bx",
      "execution_count": null,
      "outputs": [
        {
          "output_type": "stream",
          "name": "stdout",
          "text": [
            "[51.19847003 48.78533825 50.23046028 49.73161066 49.70623751 50.05791903\n",
            " 49.28223815]\n"
          ]
        }
      ]
    },
    {
      "cell_type": "markdown",
      "id": "f8913844-39a1-4d9b-a434-7af478336f20",
      "metadata": {
        "id": "f8913844-39a1-4d9b-a434-7af478336f20"
      },
      "source": [
        "Sample Output:\n",
        "\n",
        "array([27.43864059, 26.99643944, 27.10398301, 27.43854821, 26.81072977,\n",
        "       26.76581481, 27.07946152])"
      ]
    },
    {
      "cell_type": "markdown",
      "id": "55a224ca-01c9-4b13-8bc9-1db7269a35d5",
      "metadata": {
        "id": "55a224ca-01c9-4b13-8bc9-1db7269a35d5"
      },
      "source": [
        "# Q5"
      ]
    },
    {
      "cell_type": "markdown",
      "id": "af5efd9b-ff4f-4ae1-af9a-da9bf621d3bd",
      "metadata": {
        "id": "af5efd9b-ff4f-4ae1-af9a-da9bf621d3bd"
      },
      "source": [
        "Statement: You have collected data from multiple sensors placed in different rooms of a building. The sensor readings are stored in a 4D NumPy array readings of shape (4, 7, 24, 60), where the dimensions represent the number of sensors, number of days, hours in a day, and minutes in an hour, respectively. Write a code snippet to calculate the maximum reading for each sensor across all days."
      ]
    },
    {
      "cell_type": "code",
      "execution_count": 14,
      "id": "79873e69-35ad-4bde-ba48-cf33218b1dc2",
      "metadata": {
        "id": "79873e69-35ad-4bde-ba48-cf33218b1dc2",
        "colab": {
          "base_uri": "https://localhost:8080/"
        },
        "outputId": "6391655c-1cd3-4cdb-dcb9-677b5550509d"
      },
      "outputs": [
        {
          "output_type": "stream",
          "name": "stdout",
          "text": [
            "[99 99 99 99]\n"
          ]
        }
      ],
      "source": [
        "# Let's create the 4d array with shape(4,7,24,60) =( 4 sensors, 7 days ,24 hours, 60 minutes)\n",
        "array = np.random.randint(0,100,size = (4,7,24,60))\n",
        "\n",
        "# To calculate the maximum value of each sensor we have to find the max of all the days , hours and minutes so\n",
        "\n",
        "max_value = np.max(array,axis = (1,2,3))\n",
        "print(max_value)\n",
        "\n",
        "# we have found the maximum value of each sensor"
      ]
    },
    {
      "cell_type": "markdown",
      "id": "e8ca2836-0977-4b11-a214-a93630131927",
      "metadata": {
        "id": "e8ca2836-0977-4b11-a214-a93630131927"
      },
      "source": [
        "# Q6"
      ]
    },
    {
      "cell_type": "markdown",
      "id": "b324cb33-b481-4cf8-a148-9292ec382a8c",
      "metadata": {
        "id": "b324cb33-b481-4cf8-a148-9292ec382a8c"
      },
      "source": [
        "Statement: You have collected data from a 3D printer that measures the dimensions of printed objects. The recorded dimensions are stored in a 3D NumPy array dimensions of shape (100, 50, 3), where the dimensions represent the number of printed objects, number of measurements for each object, and the three dimensions (length, width, height), respectively. Write a code snippet to calculate the average length, width, and height across all objects.\n",
        "\n",
        "Sample Inpumt:"
      ]
    },
    {
      "cell_type": "code",
      "execution_count": 17,
      "id": "d1199cf1-5f47-45f5-a090-615021490d8e",
      "metadata": {
        "id": "d1199cf1-5f47-45f5-a090-615021490d8e",
        "colab": {
          "base_uri": "https://localhost:8080/"
        },
        "outputId": "02aec4f4-2b6a-40aa-d02d-056bce88e51d"
      },
      "outputs": [
        {
          "output_type": "stream",
          "name": "stdout",
          "text": [
            "Average Length:  0.49670469107797516\n",
            "Average Width:  0.4962398473966467\n",
            "Average Height:  0.4957918211972099\n"
          ]
        }
      ],
      "source": [
        "# First create a 3d array with shape(100,50,3) = (100 objects, 50 number of measurements and 3 are the number of dimensions)\n",
        "array = np.random.rand(100,50,3)\n",
        "\n",
        "\n",
        "# First find out the average of the measurements(axis = 1) and printed objects(axis = 1) to reduce dimensions.This will result in the single object containing three dimension length,width and height\n",
        "\n",
        "average_dimensions = np.mean(array,axis = (0,1))\n",
        "\n",
        "# Now extract the individual averages\n",
        "average_length = average_dimensions[0]\n",
        "average_width = average_dimensions[1]\n",
        "average_height = average_dimensions[2]\n",
        "\n",
        "print(\"Average Length: \",average_length)\n",
        "print(\"Average Width: \",average_width)\n",
        "print(\"Average Height: \",average_height)"
      ]
    },
    {
      "cell_type": "markdown",
      "id": "a3c20cfa-7ad6-437b-8837-1eabded47ac7",
      "metadata": {
        "id": "a3c20cfa-7ad6-437b-8837-1eabded47ac7"
      },
      "source": [
        "# Q7"
      ]
    },
    {
      "cell_type": "markdown",
      "id": "c5c5e835-2d6d-4bec-a700-4125e2ea7375",
      "metadata": {
        "id": "c5c5e835-2d6d-4bec-a700-4125e2ea7375"
      },
      "source": [
        "Statement: You are given a 3D NumPy array data of shape (5, 6, 7) representing the sensor readings from multiple sensors placed in different locations over a period of time. Each sensor provides measurements at different time points. Write a code snippet to calculate the following statistics for each sensor:\n",
        "\n",
        "Total number of measurements\n",
        "\n",
        "Average measurement value\n",
        "\n",
        "Standard deviation of measurements\n",
        "\n",
        "Minimum measurement value\n",
        "\n",
        "Maximum measurement value\n",
        "\n",
        "Sample Input:"
      ]
    },
    {
      "cell_type": "code",
      "execution_count": 31,
      "id": "46256376-8395-460c-a736-71a83252e47f",
      "metadata": {
        "id": "46256376-8395-460c-a736-71a83252e47f",
        "colab": {
          "base_uri": "https://localhost:8080/"
        },
        "outputId": "f28a287f-c60d-4f3c-bcc2-09f44b0c767f"
      },
      "outputs": [
        {
          "output_type": "stream",
          "name": "stdout",
          "text": [
            "[42 42 42 42 42]\n"
          ]
        }
      ],
      "source": [
        "# Total number of measurements\n",
        "\n",
        "# Creating random array of shape(5,6,7)\n",
        "array = np.random.rand(5,6,7)\n",
        "\n",
        "# Since total measurements = number of measurements*number of time points\n",
        "\n",
        "total_measurements = array.shape[1]*array.shape[2]\n",
        "# Now creating an array that contains the measurements of each sensor\n",
        "\n",
        "total_measurements_persensor = np.full(array.shape[0],total_measurements)\n",
        "print(total_measurements_persensor)"
      ]
    },
    {
      "cell_type": "code",
      "execution_count": 24,
      "id": "87f085a1-fec3-40e5-90db-d535c0de01c0",
      "metadata": {
        "id": "87f085a1-fec3-40e5-90db-d535c0de01c0",
        "colab": {
          "base_uri": "https://localhost:8080/"
        },
        "outputId": "3359addb-6cdb-4c4e-ae9f-5e3e13d5dfec"
      },
      "outputs": [
        {
          "output_type": "stream",
          "name": "stdout",
          "text": [
            "[0.41961795 0.43038251 0.50487724 0.47326354 0.50969429]\n"
          ]
        }
      ],
      "source": [
        "# Average measurement value\n",
        "# consider the same matrix\n",
        "\n",
        "array = np.random.rand(5,6,7)\n",
        "# To get the average measurements value\n",
        "\n",
        "average_measurements = np.mean(array,axis = (1,2))\n",
        "print(average_measurements)"
      ]
    },
    {
      "cell_type": "code",
      "source": [
        "# Standard deviation measurement value\n",
        "# consider the same matrix\n",
        "\n",
        "array = np.random.rand(5,6,7)\n",
        "std_deviation = np.std(array,axis = (1,2))\n",
        "print(std_deviation)"
      ],
      "metadata": {
        "colab": {
          "base_uri": "https://localhost:8080/"
        },
        "id": "DRI-KzHLHt8i",
        "outputId": "dc0b7173-a5e8-4aff-ecac-2a8f8da4f857"
      },
      "id": "DRI-KzHLHt8i",
      "execution_count": 26,
      "outputs": [
        {
          "output_type": "stream",
          "name": "stdout",
          "text": [
            "[0.27889638 0.26335611 0.29826913 0.26774636 0.31147859]\n"
          ]
        }
      ]
    },
    {
      "cell_type": "code",
      "source": [
        "# Minimum measurement value\n",
        "\n",
        "array = np.random.rand(5,6,7)\n",
        "min_measurement_value = np.min(array,axis = (1,2))\n",
        "print(min_measurement_value)\n"
      ],
      "metadata": {
        "colab": {
          "base_uri": "https://localhost:8080/"
        },
        "id": "BMkZlSO_JnvH",
        "outputId": "7aacd3b0-6b46-4257-bc74-0ac08f4b9948"
      },
      "id": "BMkZlSO_JnvH",
      "execution_count": 27,
      "outputs": [
        {
          "output_type": "stream",
          "name": "stdout",
          "text": [
            "[0.03959451 0.00685093 0.03077382 0.00340816 0.01408235]\n"
          ]
        }
      ]
    },
    {
      "cell_type": "code",
      "source": [
        "#  Maximum measurement value\n",
        "\n",
        "array = np.random.rand(5,6,7)\n",
        "max_measurement_value = np.max(array,axis = (1,2))\n",
        "print(max_measurement_value)"
      ],
      "metadata": {
        "colab": {
          "base_uri": "https://localhost:8080/"
        },
        "id": "cJCcLQhiKaet",
        "outputId": "f141bbd3-4834-4e7d-89c6-464bb26b8a14"
      },
      "id": "cJCcLQhiKaet",
      "execution_count": 28,
      "outputs": [
        {
          "output_type": "stream",
          "name": "stdout",
          "text": [
            "[0.97740176 0.99049139 0.98031038 0.97963837 0.96187493]\n"
          ]
        }
      ]
    },
    {
      "cell_type": "code",
      "source": [],
      "metadata": {
        "id": "0HzWmuFJKuvF"
      },
      "id": "0HzWmuFJKuvF",
      "execution_count": null,
      "outputs": []
    }
  ],
  "metadata": {
    "kernelspec": {
      "display_name": "Python 3 (ipykernel)",
      "language": "python",
      "name": "python3"
    },
    "language_info": {
      "codemirror_mode": {
        "name": "ipython",
        "version": 3
      },
      "file_extension": ".py",
      "mimetype": "text/x-python",
      "name": "python",
      "nbconvert_exporter": "python",
      "pygments_lexer": "ipython3",
      "version": "3.10.8"
    },
    "colab": {
      "provenance": []
    }
  },
  "nbformat": 4,
  "nbformat_minor": 5
}