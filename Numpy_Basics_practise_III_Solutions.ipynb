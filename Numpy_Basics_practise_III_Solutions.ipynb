{
  "cells": [
    {
      "cell_type": "code",
      "execution_count": 1,
      "metadata": {
        "id": "qQxFQvrEEKqm"
      },
      "outputs": [],
      "source": [
        "import numpy as np"
      ]
    },
    {
      "cell_type": "code",
      "execution_count": 2,
      "metadata": {
        "id": "n_ncJAFDEbs1"
      },
      "outputs": [],
      "source": [
        "# from google.colab import drive\n",
        "# drive.mount('/content/drive')"
      ]
    },
    {
      "cell_type": "markdown",
      "metadata": {
        "id": "5dL78wl-ElhS"
      },
      "source": [
        "# Q.1\n",
        "**Statement:** You are working with a retail store that needs to manage its inventory efficiently. They have provided you with a dataset containing information about products, their quantities in stock, and the number of units sold daily for the past week. Total number of products are 5. Your task is to calculate the following:\n",
        "\n",
        "\n",
        "\n",
        "1.The total sales for each product over the past week.\n",
        "\n",
        "2.The average daily sales for each product.\n",
        "\n",
        "3.The product with the highest sales.\n",
        "\n",
        "4.The product with the lowest sales.\n",
        "\n",
        "5.The total sales for all products combined.\n",
        "\n",
        "You are required to use NumPy for efficient data processing and calculations. Write code to solve this inventory management problem."
      ]
    },
    {
      "cell_type": "code",
      "execution_count": 3,
      "metadata": {
        "colab": {
          "base_uri": "https://localhost:8080/"
        },
        "id": "DxtXsLXRVpdW",
        "outputId": "24e95b98-7c39-4423-9f2f-2c38fb01f721"
      },
      "outputs": [
        {
          "name": "stdout",
          "output_type": "stream",
          "text": [
            "total_sales_of_product =  {'rubber': 175, 'pensil': 72, 'pen': 205, 'notebook': 204, 'diary': 210}\n",
            "\n",
            "average_sale_per_product =  {'rubber': 25.0, 'pensil': 10.285714285714286, 'pen': 29.285714285714285, 'notebook': 29.142857142857142, 'diary': 30.0}\n",
            "\n",
            "max_sale_per_product =  {'rubber': 40, 'pensil': 16, 'pen': 40, 'notebook': 55, 'diary': 45}\n",
            "\n",
            "min_sale_per_product =  {'rubber': 10, 'pensil': 5, 'pen': 15, 'notebook': 12, 'diary': 15}\n",
            "\n"
          ]
        }
      ],
      "source": [
        "# Sample data (replace with your actual data)\n",
        "product_names = np.array(['rubber', 'pensil', 'pen', 'notebook', 'diary'])\n",
        "quantities_in_stock = np.array([100, 150, 200, 250, 50])\n",
        "\n",
        "daily_sales_data = np.array([[10, 15, 20, 25, 30, 35, 40],\n",
        "                             [5, 7, 8, 10, 12, 14, 16],\n",
        "                             [15, 20, 25, 30, 35, 40, 40],\n",
        "                             [12, 25, 20, 40, 20, 32, 55],\n",
        "                             [15, 20, 25, 30, 35, 40, 45]])\n",
        "\n",
        "# Calculate total sales revenue for each product over the past week\n",
        "# First calculate the total sum for each product from the daily sales data\n",
        "\n",
        "sale_per_product = np.sum(daily_sales_data,axis = 1)\n",
        "# To write the sales of each product make it the dictionary\n",
        "\n",
        "total_sales_of_products = dict(zip(product_names,sale_per_product))\n",
        "print(\"total_sales_of_product = \",total_sales_of_products)\n",
        "print()\n",
        "\n",
        "\n",
        "# Calculate average daily sales for each product\n",
        "# Calculate the average of daily sales\n",
        "\n",
        "average_sale_per_product = np.mean(daily_sales_data,axis=1)\n",
        "# To write the average sale per product first make it dictionary\n",
        "\n",
        "average_sale_per_product = dict(zip(product_names,average_sale_per_product))\n",
        "print(\"average_sale_per_product = \",average_sale_per_product)\n",
        "print()\n",
        "\n",
        "\n",
        "# Find the product with the highest and lowest sales\n",
        "# Doing the same\n",
        "\n",
        "max_sale_per_product = np.max(daily_sales_data,axis=1)\n",
        "\n",
        "max_sale_per_product = dict(zip(product_names,max_sale_per_product))\n",
        "print(\"max_sale_per_product = \",max_sale_per_product)\n",
        "print()\n",
        "\n",
        "# Calculate the total sales revenue for all products combined\n",
        "min_sale_per_product = np.min(daily_sales_data,axis=1)\n",
        "\n",
        "min_sale_per_product = dict(zip(product_names,min_sale_per_product))\n",
        "print(\"min_sale_per_product = \",min_sale_per_product)\n",
        "print()"
      ]
    },
    {
      "cell_type": "markdown",
      "metadata": {
        "id": "ICk1qoQHVwDc"
      },
      "source": [
        "# Q.2\n",
        "**Statement:** Statement: You are working with a manufacturing plant that produces various components. They have provided you with data on the production rates of five different machines over the past month. Your task is to analyze the performance of these machines by calculating the following metrics:\n",
        "\n",
        "1.The total production output for each machine over the past month.\n",
        "\n",
        "2.The average daily production rate for each machine.\n",
        "\n",
        "3.The machine with the highest total production output.\n",
        "\n",
        "4.The machine with the lowest total production output.\n",
        "\n",
        "The overall production efficiency of the plant, which is defined as the ratio of the total production output to the total number of hours worked, and working hour for each day is 2 hours."
      ]
    },
    {
      "cell_type": "code",
      "execution_count": 4,
      "metadata": {
        "colab": {
          "base_uri": "https://localhost:8080/"
        },
        "id": "lIu6pfmgbUQd",
        "outputId": "9ff88829-bf1f-469b-efb1-0b01bfdb068c"
      },
      "outputs": [
        {
          "name": "stdout",
          "output_type": "stream",
          "text": [
            "total_production_per_machine {'machine A': 4526, 'machine B': 4446, 'machine C': 4515, 'machine D': 4535, 'machine E': 4390}\n",
            "\n",
            "average_daily_production_per_machine {'machine A': 150.86666666666667, 'machine B': 148.2, 'machine C': 150.5, 'machine D': 151.16666666666666, 'machine E': 146.33333333333334}\n",
            "\n",
            "highest_production_per_machine {'machine A': 199, 'machine B': 200, 'machine C': 199, 'machine D': 188, 'machine E': 200}\n",
            "\n",
            "minimum_production_per_machine {'machine A': 101, 'machine B': 101, 'machine C': 101, 'machine D': 100, 'machine E': 100}\n",
            "\n",
            "overall plant efficiency =  74.70666666666666\n"
          ]
        }
      ],
      "source": [
        "\n",
        "# Sample data (replace with your actual data)\n",
        "\n",
        "# Generate random production rates between 100 and 200 for 5 machines and 30 days\n",
        "Machine_Names = np.array([\"machine A\",\"machine B\",\"machine C\", \"machine D\",'machine E'])\n",
        "np.random.seed() #For reproducibility\n",
        "\n",
        "random_production_data = np.random.randint(100, 201, size=(5, 30))\n",
        "\n",
        "\n",
        "# Calculate total production output for each machine over the past month\n",
        "# Calculating the total production out for each machine over the past month\n",
        "\n",
        "total_production_per_machine = np.sum(random_production_data,axis = 1)\n",
        "\n",
        "total_production_per_machine = dict(zip(Machine_Names,total_production_per_machine))\n",
        "print(\"total_production_per_machine\",total_production_per_machine)\n",
        "print()\n",
        "\n",
        "\n",
        "# Calculate average daily production rate for each machine\n",
        "\n",
        "average_daily_production_per_machine = np.mean(random_production_data,axis = 1)\n",
        "\n",
        "average_daily_production_per_machine = dict(zip(Machine_Names,average_daily_production_per_machine))\n",
        "print(\"average_daily_production_per_machine\",average_daily_production_per_machine)\n",
        "print()\n",
        "\n",
        "# Find the machine with the highest total production output\n",
        "highest_production_per_machine = np.max(random_production_data,axis = 1)\n",
        "\n",
        "highest_production_per_machine = dict(zip(Machine_Names,highest_production_per_machine))\n",
        "print(\"highest_production_per_machine\",highest_production_per_machine)\n",
        "print()\n",
        "\n",
        "#  Find the machine with the lowest total production output\n",
        "\n",
        "minimum_production_per_machine = np.min(random_production_data,axis = 1)\n",
        "\n",
        "minimum_production_per_machine = dict(zip(Machine_Names,minimum_production_per_machine))\n",
        "print(\"minimum_production_per_machine\",minimum_production_per_machine)\n",
        "print()\n",
        "\n",
        "# Calculate the overall production efficiency of the plant\n",
        "\n",
        "# Since overall production efficiencty of the plant is (( over production/total_possible production)*100)\n",
        "\n",
        "Number_of_machines = 5\n",
        "Daily_max_production = 200\n",
        "Days = 30\n",
        "total_possible_production = 5*200*30\n",
        "\n",
        "\n",
        "overall_production =  np.sum(random_production_data)\n",
        "\n",
        "overall_efficiency = (overall_production/total_possible_production)*100\n",
        "print(\"overall plant efficiency = \",overall_efficiency)\n"
      ]
    },
    {
      "cell_type": "markdown",
      "metadata": {
        "id": "Ayc9TG-vff7A"
      },
      "source": [
        "# Q3:\n",
        "\n",
        "**Statment**\n",
        "You are working on a project that involves simulating sensor data for a network of 10 sensors over a period of 15 days. Each sensor collects data once per hour. Your task is to generate a NumPy array named sensor_data to represent this simulated sensor data and perform following statistical analysis on it.\n",
        "\n",
        "Populate the sensor_data array with random floating-point values between 0.0 and 100.0\n",
        "The generated values should represent sensor readings collected once per hour.\n",
        "\n",
        "After generating the sensor_data array, perform the following statistical **calculations:**\n",
        "\n",
        "1.Calculate the mean (average) sensor reading for each sensor over the 15 days.\n",
        "\n",
        "2.Calculate the standard deviation of sensor readings for each sensor.\n",
        "\n",
        "3.Calculate the maximum sensor reading for each sensor.\n",
        "\n",
        "4.Calculate the minimum sensor reading for each sensor.\n",
        "\n",
        "5.Calculate the overall mean sensor reading for all sensors and all days.\n",
        "\n",
        "6.Calculate the overall standard deviation of sensor readings for all sensors an"
      ]
    },
    {
      "cell_type": "code",
      "execution_count": 40,
      "metadata": {
        "colab": {
          "base_uri": "https://localhost:8080/"
        },
        "id": "TWSK9GA1gfz0",
        "outputId": "0e5f5cf5-fe82-48d8-d87d-246fb81c455d"
      },
      "outputs": [
        {
          "name": "stdout",
          "output_type": "stream",
          "text": [
            "mean sensor reading for each sensor over 15 days [49.20429933 51.03789596 49.75721193 49.4760367  48.88955896 49.46033617\n",
            " 52.21905732 51.49387999 48.28913644 49.91775771]\n",
            "\n",
            "std_of_each_sensor [26.95537476 28.70746866 28.76615679 29.29371573 29.45598024 28.8426114\n",
            " 28.64044087 28.48024512 28.20190149 29.65428036]\n",
            "\n",
            "max sensor reading is  [99.52194228 99.98640111 99.87877999 99.96002362 99.89581638 99.98425585\n",
            " 99.96749777 99.85076189 99.69899367 99.79500254]\n",
            "\n",
            "minimum sensor reading is = [0.5055988  0.55226568 0.03385558 0.15324018 0.43228359 0.56774567\n",
            " 0.44779649 0.23086362 0.08185567 0.18518267]\n",
            "\n",
            "average_reading_for_all_sensors 49.97451705187164\n",
            "\n",
            "std_deviation_for_sensors =  0.7213240958065319\n"
          ]
        }
      ],
      "source": [
        "import numpy as np\n",
        "\n",
        "# Data Generation Requirements\n",
        "num_sensors = 10\n",
        "num_days = 15\n",
        "hours_per_day = 24\n",
        "shape = (num_sensors, num_days , hours_per_day)\n",
        "np.random.seed()\n",
        "data = np.random.uniform(0.0,100.0, size= (10,15,24))\n",
        "\n",
        "\n",
        "# Solution\n",
        "mean_sensor_reading = np.mean(data,axis = (1,2))\n",
        "print(\"mean sensor reading for each sensor over 15 days\", mean_sensor_reading)\n",
        "print()\n",
        "\n",
        "# Std for each sensor\n",
        "\n",
        "std_of_each_sensor =  np.std(data,axis = (1,2))\n",
        "print(\"std_of_each_sensor\",std_of_each_sensor)\n",
        "print()\n",
        "\n",
        "# Max sensor reading\n",
        "\n",
        "max_sens_reading = np.max(data,axis = (1,2))\n",
        "print(\"max sensor reading is \",max_sens_reading)\n",
        "print()\n",
        "\n",
        "# minimum sensor reading\n",
        "\n",
        "min_sens_reading = np.min(data,axis = (1,2))\n",
        "print(\"minimum sensor reading is =\",min_sens_reading)\n",
        "print()\n",
        "\n",
        "# overall sensor reading for all sensors for all days\n",
        "\n",
        "#  This can be obtained by the mean of the all the sensor readings\n",
        "\n",
        "average_reading_of_all_sensors = np.mean(mean_sensor_reading)\n",
        "print(\"average_reading_for_all_sensors\",average_reading_of_all_sensors)\n",
        "print()\n",
        "\n",
        "# To calculate the overall std for all sensors readings\n",
        "#  we have to calculate the std of all the sensors\n",
        "\n",
        "std_deviation_of_sensors = np.std(std_of_each_sensor )\n",
        "print(\"std_deviation_for_sensors = \",std_deviation_of_sensors)"
      ]
    },
    {
      "cell_type": "markdown",
      "metadata": {
        "id": "IShr0NSyhcEc"
      },
      "source": [
        "# Q4:\n",
        "\n",
        "**Statement**: You are tasked with analyzing the exam scores of 30 students in a class over a period of 10 exams. The exam scores are represented as a NumPy, where each row corresponds to a different student, and each column represents their score in a specific exam.\n",
        "\n",
        "Populate the exam_scores array with random integer values between 50 and 100 to simulate students' exam performance.\n",
        "\n",
        "After generating the exam_scores array, perform the following tasks:\n",
        "\n",
        "1.Calculate the average score for each student over the 10 exams.\n",
        "\n",
        "2.Calculate the standard deviation of scores for each student.\n",
        "\n",
        "3.Identify students who have consistently performed well, defined as those whose average score is above 85.\n",
        "\n",
        "4.Identify students who may need additional support, defined as those whose average score is below 50.\n",
        "\n",
        "Write code to create and populate the exam_scores array and then perform the specified statistical analysis and performance evaluation tasks on the data.\n",
        "\n",
        "\n",
        "\n"
      ]
    },
    {
      "cell_type": "code",
      "execution_count": 50,
      "metadata": {
        "colab": {
          "base_uri": "https://localhost:8080/"
        },
        "id": "F3p_SMeoiT2o",
        "outputId": "a2309c66-91aa-4357-90a8-86a28169cbb7"
      },
      "outputs": [
        {
          "name": "stdout",
          "output_type": "stream",
          "text": [
            "average score of each student =  [72.4 66.4 79.4 81.8 80.1 73.6 76.  64.9 66.4 74.3 69.2 71.8 81.  64.7\n",
            " 72.5 75.  76.4 78.4 80.4 68.1 76.8 74.3 81.7 71.6 72.8 79.1 67.2 74.6\n",
            " 76.4 70.3]\n",
            "\n",
            "standard deviation of scores for each student [72.4 66.4 79.4 81.8 80.1 73.6 76.  64.9 66.4 74.3 69.2 71.8 81.  64.7\n",
            " 72.5 75.  76.4 78.4 80.4 68.1 76.8 74.3 81.7 71.6 72.8 79.1 67.2 74.6\n",
            " 76.4 70.3]\n",
            "\n",
            "Students having average score greater than 85 =  []\n",
            "\n",
            "students having average scores less than 60 []\n"
          ]
        }
      ],
      "source": [
        "import numpy as np\n",
        "\n",
        "# Create the exam_scores array (30 students, 10 exams)\n",
        "# Populate the exam_scores array with random scores between 50 and 100\n",
        "\n",
        "num_students = 30\n",
        "num_exams = 10\n",
        "np.random.seed()\n",
        "exam_scores = np.random.randint(50,101, size = (num_students,num_exams))\n",
        "\n",
        "\n",
        "# 1. Calculate the average score for each student over the 10 exams\n",
        "average_score = np.mean(exam_scores,axis = 1)\n",
        "print(\"average score of each student = \", average_score)\n",
        "print()\n",
        "\n",
        "\n",
        "# 2. Calculate the standard deviation of scores for each student\n",
        "\n",
        "std_deviation = np.mean(exam_scores,axis = 1)\n",
        "print(\"standard deviation of scores for each student\",std_deviation)\n",
        "print()\n",
        "# 3. Identify students who have consistently performed well (average score > 85)\n",
        "# now filter the students having average score> 85\n",
        "\n",
        "good_students = average_score[average_score>85.0]\n",
        "print('Students having average score greater than 85 = ',good_students)\n",
        "print()\n",
        "\n",
        "# 4. Identify students who may need additional support (average score < 60)\n",
        "\n",
        "normal_students = average_score[average_score<60.0]\n",
        "print('students having average scores less than 60', normal_students)\n"
      ]
    },
    {
      "cell_type": "code",
      "execution_count": null,
      "metadata": {
        "id": "mDr6izB_U-2N"
      },
      "outputs": [],
      "source": []
    }
  ],
  "metadata": {
    "colab": {
      "provenance": []
    },
    "kernelspec": {
      "display_name": "Python 3",
      "name": "python3"
    },
    "language_info": {
      "name": "python"
    }
  },
  "nbformat": 4,
  "nbformat_minor": 0
}
