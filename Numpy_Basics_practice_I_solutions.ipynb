{
  "cells": [
    {
      "cell_type": "markdown",
      "metadata": {
        "id": "YmwKgUrAkbfG"
      },
      "source": [
        "# Numpy Basics Exercises\n",
        "\n",
        "Please complete the following exercises **using numpy only**."
      ]
    },
    {
      "cell_type": "markdown",
      "metadata": {
        "id": "vpo3azRubEMA"
      },
      "source": [
        "# Array Functions\n",
        "1.Arange([start,] stop[, step],dtype=None)\n",
        "Nearly identical to Python’s range(). Creates an array of values in the range [start,stop) with the specified step value. Allows non-integer values for start, stop, and step. Default dtype is derived from the start, stop, and step values. create an array with arange."
      ]
    },
    {
      "cell_type": "code",
      "source": [
        "import numpy as np"
      ],
      "metadata": {
        "id": "LJU88yL4kGTF"
      },
      "execution_count": 118,
      "outputs": []
    },
    {
      "cell_type": "code",
      "execution_count": 119,
      "metadata": {
        "id": "31t0LaJ3bEMB",
        "colab": {
          "base_uri": "https://localhost:8080/"
        },
        "outputId": "6b686ff2-0a2d-482c-d1f1-ab1f26e36a02"
      },
      "outputs": [
        {
          "output_type": "stream",
          "name": "stdout",
          "text": [
            "[ 1  2  3  4  5  6  7  8  9 10]\n",
            "int64\n",
            "\n",
            "[ 1.  2.  3.  4.  5.  6.  7.  8.  9. 10.]\n"
          ]
        },
        {
          "output_type": "execute_result",
          "data": {
            "text/plain": [
              "dtype('float64')"
            ]
          },
          "metadata": {},
          "execution_count": 119
        }
      ],
      "source": [
        "# code here (you may create an array of your own choice)\n",
        "\n",
        "ar1 = np.arange(1,11,1)\n",
        "print(ar1)\n",
        "print(ar1.dtype)\n",
        "print()\n",
        "\n",
        "# To create array of floats\n",
        "ar2 = np.arange(1,11,1,dtype = float)\n",
        "print(ar2)\n",
        "ar2.dtype"
      ]
    },
    {
      "cell_type": "markdown",
      "metadata": {
        "id": "MfAFU0VibEMD"
      },
      "source": [
        "2.Create arrays with ONES, ZEROS, shape is a number or sequence specifying the dimensions of the array. If dtype is not specified, it defaults to float64."
      ]
    },
    {
      "cell_type": "code",
      "execution_count": 120,
      "metadata": {
        "id": "8ebuyMSkbEMD",
        "colab": {
          "base_uri": "https://localhost:8080/"
        },
        "outputId": "2d231802-fb0a-454a-8902-4fdd8ace0eb2"
      },
      "outputs": [
        {
          "output_type": "stream",
          "name": "stdout",
          "text": [
            "[1. 1. 1. 1. 1.]\n",
            "\n",
            "[[1. 1. 1.]\n",
            " [1. 1. 1.]]\n",
            "\n",
            "[0. 0. 0. 0.]\n",
            "\n",
            "[[0. 0. 0.]\n",
            " [0. 0. 0.]]\n",
            "\n",
            "[1 1 1 1 1]\n",
            "int32\n",
            "\n"
          ]
        },
        {
          "output_type": "execute_result",
          "data": {
            "text/plain": [
              "(5,)"
            ]
          },
          "metadata": {},
          "execution_count": 120
        }
      ],
      "source": [
        "# code here (you may create an array of your choice of size)\n",
        "\n",
        "a1= np.ones(5) # one dimensional array\n",
        "print(a1)\n",
        "print()\n",
        "\n",
        "a2 = np.ones((2,3)) # two dimensional array\n",
        "print(a2)\n",
        "print()\n",
        "\n",
        "a3 = np.zeros(4) # one dimensional array\n",
        "print(a3)\n",
        "print()\n",
        "\n",
        "\n",
        "a4 = np.zeros((2,3)) # two dimensional array\n",
        "print(a4)\n",
        "print()\n",
        "\n",
        "# The default type of array elements is float64\n",
        "#  Let's try one array with type int32\n",
        "\n",
        "a5 = np.ones(5,dtype = np.int32)\n",
        "print(a5)\n",
        "print(a5.dtype)\n",
        "print()\n",
        "\n",
        "# shows the shape of the array\n",
        "a5.shape"
      ]
    },
    {
      "cell_type": "markdown",
      "metadata": {
        "id": "2EiFTfIibEMD"
      },
      "source": [
        "3.Generate an n by n identity array. The default dtype is float64."
      ]
    },
    {
      "cell_type": "code",
      "execution_count": 121,
      "metadata": {
        "id": "W328-ggzbEMD",
        "colab": {
          "base_uri": "https://localhost:8080/"
        },
        "outputId": "cbac33f2-2d55-4cfc-aab7-cce7e8c29902"
      },
      "outputs": [
        {
          "output_type": "execute_result",
          "data": {
            "text/plain": [
              "array([[1., 0., 0., 0.],\n",
              "       [0., 1., 0., 0.],\n",
              "       [0., 0., 1., 0.],\n",
              "       [0., 0., 0., 1.]])"
            ]
          },
          "metadata": {},
          "execution_count": 121
        }
      ],
      "source": [
        "# code here (you may create an array of your choice of size)\n",
        "# Let's create a four by four two dimensional array\n",
        "n = 4\n",
        "np.eye(n)"
      ]
    },
    {
      "cell_type": "markdown",
      "metadata": {
        "id": "VpIlaZHJbEME"
      },
      "source": [
        "4.use empty, full, and fill, max, min, std, mean, var, argmax, linspace"
      ]
    },
    {
      "cell_type": "code",
      "source": [],
      "metadata": {
        "id": "qmhkYqwVrSMc"
      },
      "execution_count": 121,
      "outputs": []
    },
    {
      "cell_type": "code",
      "execution_count": 122,
      "metadata": {
        "id": "ze1PCT8xbEME",
        "colab": {
          "base_uri": "https://localhost:8080/"
        },
        "outputId": "7e000b1e-d664-4baa-d0e4-36348b9663f3"
      },
      "outputs": [
        {
          "output_type": "stream",
          "name": "stdout",
          "text": [
            "[[0. 0. 0.]\n",
            " [0. 0. 0.]]\n",
            "\n",
            "[[5 5 5]\n",
            " [5 5 5]\n",
            " [5 5 5]]\n",
            "\n",
            "[[3. 3. 3.]\n",
            " [3. 3. 3.]\n",
            " [3. 3. 3.]]\n",
            "\n",
            "ar5 =  [[1 2 3]\n",
            " [4 5 6]\n",
            " [7 8 9]]\n",
            "\n",
            "max =  9\n",
            "\n",
            "min =  1\n",
            "\n",
            "std =  2.581988897471611\n",
            "\n",
            "var = 6.666666666666667\n",
            "\n",
            "mean =  5.0\n",
            "\n",
            "var =  6.666666666666667\n",
            "\n",
            "argmax =  8\n",
            "\n",
            "argmax =  (2, 2)\n",
            "\n",
            "[0.   1.25 2.5  3.75 5.  ]\n"
          ]
        }
      ],
      "source": [
        "# code here (use the array createed in Question 1 for this)\n",
        "# Creating an empty array\n",
        "ar2 = np.empty(6).reshape(2,3)\n",
        "print(ar2)\n",
        "print()\n",
        "\n",
        "#  using full function to create a 3 by 3 array\n",
        "ar3 = np.full((3,3),5)\n",
        "print(ar3)\n",
        "print()\n",
        "\n",
        "# using fill function to fill the value in previous empty array array\n",
        "a = np.zeros((3,3))\n",
        "a.fill(3.0)\n",
        "print(a)\n",
        "print()\n",
        "\n",
        "# Create 2 dimensional array and apply the stat functions\n",
        "\n",
        "ar5 = np.arange(1,10).reshape(3,3)\n",
        "print('ar5 = ',ar5)\n",
        "print()\n",
        "\n",
        "# Find te max of ar5\n",
        "max = np.max(ar5)\n",
        "print('max = ',max)\n",
        "print()\n",
        "\n",
        "# Find the min of ar5\n",
        "min = np.min(ar5)\n",
        "print('min = ',min)\n",
        "print()\n",
        "\n",
        "# Find the standard deviation of ar5\n",
        "std = np.std(ar5)\n",
        "print('std = ',std)\n",
        "print()\n",
        "\n",
        "# Find the variance of ar5\n",
        "var = np.var(ar5)\n",
        "print(\"var =\",var)\n",
        "print()\n",
        "\n",
        "# Find the mean of ar5\n",
        "mean = np.mean(ar5)\n",
        "print(\"mean = \",mean)\n",
        "print()\n",
        "\n",
        "# Find the var of ar5\n",
        "var = np.var(ar5)\n",
        "print('var = ',var)\n",
        "print()\n",
        "\n",
        "# Find the  argmax of the ar5\n",
        "\n",
        "argmax = np.argmax(ar5)\n",
        "print(\"argmax = \",argmax)\n",
        "print()\n",
        "# Since our array is two dimensional so we can find the poper index by the unravel index\n",
        "\n",
        "argmax = np.unravel_index(np.argmax(ar5),ar5.shape)\n",
        "print(\"argmax = \",argmax)\n",
        "print()\n",
        "\n",
        "# linspace\n",
        "b = np.linspace(0,5,5)\n",
        "print(b)\n",
        "\n"
      ]
    },
    {
      "cell_type": "markdown",
      "metadata": {
        "id": "N8D2KaVEbEME"
      },
      "source": [
        "5. Create the array below with a = np.arange(-15, 15).reshape(5, 6) ** 2\n",
        "\n",
        "  Rule 1:\n",
        "  Operations between multiple array objects are first checked for proper shape match.\n",
        "\n",
        "  Rule 2:\n",
        "  Mathematical operators (+ - * / exp, log, ...) apply element by element, on the values.\n",
        "\n",
        "  Rule 3:\n",
        "  Reduction operations (mean, std, skew, kurt, sum, prod, ...) apply to the whole array, unless an axis is specified.\n",
        "\n",
        "  Rule 4:\n",
        "  Missing values propagate unless explicitly ignored (nanmean, nansum, ...)."
      ]
    },
    {
      "cell_type": "code",
      "execution_count": 123,
      "metadata": {
        "id": "SfR3QRNXbEME",
        "colab": {
          "base_uri": "https://localhost:8080/"
        },
        "outputId": "5bc2f868-f0de-4b05-d1b2-c9a98846f725"
      },
      "outputs": [
        {
          "output_type": "stream",
          "name": "stdout",
          "text": [
            "[[215 187 161 137 115  95]\n",
            " [ 77  61  47  35  25  17]\n",
            " [ 11   7   5   5   7  11]\n",
            " [ 17  25  35  47  61  77]\n",
            " [ 95 115 137 161 187 215]]\n",
            "\n",
            "a-b  = [[235 205 177 151 127 105]\n",
            " [ 85  67  51  37  25  15]\n",
            " [  7   1  -3  -5  -5  -3]\n",
            " [  1   7  15  25  37  51]\n",
            " [ 67  85 105 127 151 177]]\n",
            "\n",
            "a*b  = [[-2250 -1764 -1352 -1008  -726  -500]\n",
            " [ -324  -192   -98   -36     0    16]\n",
            " [   18    12     4     0     6    28]\n",
            " [   72   144   250   396   588   832]\n",
            " [ 1134  1500  1936  2448  3042  3724]]\n",
            "\n",
            "a/b  = [[-22.5        -21.77777778 -21.125      -20.57142857 -20.16666667\n",
            "  -20.        ]\n",
            " [-20.25       -21.33333333 -24.5        -36.                  inf\n",
            "   16.        ]\n",
            " [  4.5          1.33333333   0.25         0.           0.16666667\n",
            "    0.57142857]\n",
            " [  1.125        1.77777778   2.5          3.27272727   4.08333333\n",
            "    4.92307692]\n",
            " [  5.78571429   6.66666667   7.5625       8.47058824   9.38888889\n",
            "   10.31578947]]\n",
            "\n",
            "exp(a)  =  [[5.20305514e+97 1.32348326e+85 2.48752493e+73 3.45466066e+62\n",
            "  3.54513118e+52 2.68811714e+43]\n",
            " [1.50609731e+35 6.23514908e+27 1.90734657e+21 4.31123155e+15\n",
            "  7.20048993e+10 8.88611052e+06]\n",
            " [8.10308393e+03 5.45981500e+01 2.71828183e+00 1.00000000e+00\n",
            "  2.71828183e+00 5.45981500e+01]\n",
            " [8.10308393e+03 8.88611052e+06 7.20048993e+10 4.31123155e+15\n",
            "  1.90734657e+21 6.23514908e+27]\n",
            " [1.50609731e+35 2.68811714e+43 3.54513118e+52 3.45466066e+62\n",
            "  2.48752493e+73 1.32348326e+85]]\n",
            "\n",
            "log(a)  = [[5.4161004  5.27811466 5.12989871 4.9698133  4.79579055 4.60517019]\n",
            " [4.39444915 4.15888308 3.8918203  3.58351894 3.21887582 2.77258872]\n",
            " [2.19722458 1.38629436 0.               -inf 0.         1.38629436]\n",
            " [2.19722458 2.77258872 3.21887582 3.58351894 3.8918203  4.15888308]\n",
            " [4.39444915 4.60517019 4.79579055 4.9698133  5.12989871 5.27811466]]\n",
            "\n"
          ]
        },
        {
          "output_type": "stream",
          "name": "stderr",
          "text": [
            "<ipython-input-123-dc8d3cf34d9d>:17: RuntimeWarning: divide by zero encountered in divide\n",
            "  print(\"a/b  =\",a/b)\n",
            "<ipython-input-123-dc8d3cf34d9d>:23: RuntimeWarning: divide by zero encountered in log\n",
            "  print(\"log(a)  =\",np.log(a))\n"
          ]
        }
      ],
      "source": [
        "# code here and try to figure out different functions on your own (as stated in Rule 3, also figure out how to propogate missing values as stated in Rule 4)\n",
        "\n",
        "a = np.arange(-15,15).reshape(5,6)**2\n",
        "b = np.arange(-10,20).reshape(5,6)\n",
        "\n",
        "# performing  functions\n",
        "sum= a+b\n",
        "print(sum)\n",
        "print()\n",
        "\n",
        "print(\"a-b  =\",a-b)\n",
        "print()\n",
        "\n",
        "print(\"a*b  =\",a*b)\n",
        "print()\n",
        "\n",
        "print(\"a/b  =\",a/b)\n",
        "print()\n",
        "\n",
        "print(\"exp(a)  = \",np.exp(a))\n",
        "print()\n",
        "\n",
        "print(\"log(a)  =\",np.log(a))\n",
        "print()\n",
        "\n"
      ]
    },
    {
      "cell_type": "code",
      "source": [
        "#  Reduction operations\n",
        "from scipy.stats import skew\n",
        "# mean, std, skew, kurt, sum, prod, .\n",
        "a = np.arange(-15,15).reshape(5,6)**2\n",
        "print('mean of a is = ',np.mean(a))\n",
        "print()\n",
        "\n",
        "print('standard deviation of a is = ',np.std(a))\n",
        "print()\n",
        "\n",
        "print('sum of a is = ',np.sum(a))\n",
        "print()\n",
        "\n",
        "print('product of a is = ',np.prod(a))\n",
        "print()\n",
        "\n",
        "# Let's define the array containing missng values\n",
        "\n",
        "a = np.array([1,2,np.nan,4,5,np.nan])\n",
        "print(a)\n",
        "print()\n",
        "\n",
        "# Filling the empty spaces with sum and mean\n",
        "\n",
        "\n",
        "sum_value = np.nansum(a)\n",
        "print(sum_value)\n",
        "print()\n",
        "filled_sum = np.where(np.isnan(a),sum_value,a)\n",
        "print(filled_sum)\n",
        "print()\n",
        "\n",
        "# Filling with mean in empty spaces\n",
        "\n",
        "mean_value = np.nanmean(a)\n",
        "print(mean_value)\n",
        "print()\n",
        "\n",
        "filled_mean = np.where(np.isnan(a),mean_value,a)\n",
        "print(filled_mean)\n",
        "print()"
      ],
      "metadata": {
        "colab": {
          "base_uri": "https://localhost:8080/"
        },
        "id": "1e7PdfV52w32",
        "outputId": "b48b7592-aea3-4b0b-a6ae-4e0df29b0734"
      },
      "execution_count": 124,
      "outputs": [
        {
          "output_type": "stream",
          "name": "stdout",
          "text": [
            "mean of a is =  75.16666666666667\n",
            "\n",
            "standard deviation of a is =  67.45323482894567\n",
            "\n",
            "sum of a is =  2255\n",
            "\n",
            "product of a is =  0\n",
            "\n",
            "[ 1.  2. nan  4.  5. nan]\n",
            "\n",
            "12.0\n",
            "\n",
            "[ 1.  2. 12.  4.  5. 12.]\n",
            "\n",
            "3.0\n",
            "\n",
            "[1. 2. 3. 4. 5. 3.]\n",
            "\n"
          ]
        }
      ]
    },
    {
      "cell_type": "code",
      "source": [],
      "metadata": {
        "id": "gSefGaPY2wiT"
      },
      "execution_count": 124,
      "outputs": []
    },
    {
      "cell_type": "markdown",
      "metadata": {
        "id": "ir_VH1IjbEMF"
      },
      "source": [
        "6.Create the array below with\n",
        "                  a = np.arange(-15, 15).reshape(5, 6) ** 2\n",
        "1. The maximum of each row\n",
        "2. The mean of each column\n",
        "3. The position of the overall minimum"
      ]
    },
    {
      "cell_type": "code",
      "execution_count": 125,
      "metadata": {
        "id": "XcuNU8TcbEMF",
        "colab": {
          "base_uri": "https://localhost:8080/"
        },
        "outputId": "09616600-04b4-41d0-8e35-33eaf3cebd46"
      },
      "outputs": [
        {
          "output_type": "stream",
          "name": "stdout",
          "text": [
            "max of each row= [225 196 169 144 169 196]\n",
            "\n",
            "mean of each column is = [159.16666667  45.16666667   3.16666667  33.16666667 135.16666667]\n",
            "\n",
            "position of overall minimum =  (2, 3)\n"
          ]
        }
      ],
      "source": [
        "# code here and display all 3 values appropriately. You MUST NOT choose an array of your own choice.\n",
        "a = np.arange(-15,15).reshape(5,6)**2\n",
        "\n",
        "# Maximum of each row\n",
        "\n",
        "max = np.max(a,axis = 0)\n",
        "print('max of each row=', max)\n",
        "print()\n",
        "\n",
        "# Mean of each column\n",
        "\n",
        "mean = np.mean(a,axis = 1)\n",
        "print('mean of each column is =',mean)\n",
        "print()\n",
        "\n",
        "# the position of overall minimum\n",
        "\n",
        "min = np.unravel_index(np.argmin(a),a.shape)\n",
        "print('position of overall minimum = ',min)"
      ]
    },
    {
      "cell_type": "markdown",
      "metadata": {
        "id": "oWtZzrvXjxVl"
      },
      "source": [
        "# Array Broadcasting\n",
        "NumPy arrays of different dimensionality can be combined in the same expression. Arrays with smaller dimension are broadcasted to match the larger arrays, without copying data.\n",
        "\n",
        "Broadcasting has two rules.\n",
        "\n",
        "RULE 1: PREPEND ONES TO SMALLER ARRAY'S SHAPE\n",
        "\n",
        "RULE 2: DIMENSIONS OF SIZE 1 ARE REPEATED WITHOUT COPYING"
      ]
    },
    {
      "cell_type": "code",
      "execution_count": 126,
      "metadata": {
        "id": "7vrTvmEWjwtY",
        "colab": {
          "base_uri": "https://localhost:8080/"
        },
        "outputId": "570d30c0-128c-469e-8598-02aa6740ca31"
      },
      "outputs": [
        {
          "output_type": "stream",
          "name": "stdout",
          "text": [
            "[[[0 1 2 3 4]\n",
            "  [0 1 2 3 4]\n",
            "  [0 1 2 3 4]]]\n",
            "[[ 0  1  2  3  4]\n",
            " [ 5  6  7  8  9]\n",
            " [10 11 12 13 14]\n",
            " [15 16 17 18 19]]\n",
            "\n",
            "[[[0 1 2 3 4]]]\n",
            "\n",
            "[[[[0 1 2 3 4]]\n",
            "\n",
            "  [[0 1 2 3 4]]\n",
            "\n",
            "  [[0 1 2 3 4]]]]\n",
            "[[[[ 0  2  4  6  8]\n",
            "   [ 5  7  9 11 13]\n",
            "   [10 12 14 16 18]\n",
            "   [15 17 19 21 23]]]]\n",
            "\n",
            "[[[[ 0  0  0  0  0]\n",
            "   [ 5  5  5  5  5]\n",
            "   [10 10 10 10 10]\n",
            "   [15 15 15 15 15]]]]\n",
            "\n"
          ]
        }
      ],
      "source": [
        "#code here # Create 2 arrays A and B with dim (5,4) and (5,) respectively, apply addition and subtraction.\n",
        "A = np.arange(20).reshape(4,5)\n",
        "B = np.arange(5).reshape(1,5)\n",
        "B= B[np.newaxis,:]\n",
        "tempb = B.repeat(3,axis = 1)\n",
        "print(tempb)\n",
        "\n",
        "print(A)\n",
        "print()\n",
        "print(B)\n",
        "print()\n",
        "\n",
        "#  Array broadcasting\n",
        "B= B[np.newaxis,:]\n",
        "tempb = B.repeat(3,axis = 1)\n",
        "print(tempb)\n",
        "\n",
        "# Addition of two arrays\n",
        "print(A+B)\n",
        "print()\n",
        "\n",
        "# Subtraction of two arrays\n",
        "print(A-B)\n",
        "print()"
      ]
    },
    {
      "cell_type": "markdown",
      "metadata": {
        "id": "Qp9UkMByj5Il"
      },
      "source": [
        "1.Use reduce() operation on an array to reduec it into a single meaningful value. You. can also use a specific axis to apply reduce operation.\n",
        "\n",
        "2.accumulate() creates a new array containing the intermediate results of the reduce operation at each element in a.\n"
      ]
    },
    {
      "cell_type": "code",
      "execution_count": 127,
      "metadata": {
        "id": "nmLsvmTZj626",
        "colab": {
          "base_uri": "https://localhost:8080/"
        },
        "outputId": "011a11a2-a3d5-4454-9672-ea904c75dd94"
      },
      "outputs": [
        {
          "output_type": "stream",
          "name": "stdout",
          "text": [
            "[1 2 3 4 5 6 7 8 9]\n",
            "\n",
            "add= 45\n",
            "\n",
            "product= 362880\n",
            "\n",
            "min= 1\n",
            "\n",
            "max= 9\n",
            "\n",
            "accumulate= [ 1  3  6 10 15 21 28 36 45]\n",
            "\n",
            "product= [     1      2      6     24    120    720   5040  40320 362880]\n",
            "\n",
            "min= [1 1 1 1 1 1 1 1 1]\n",
            "\n",
            "max= [1 2 3 4 5 6 7 8 9]\n",
            "\n"
          ]
        }
      ],
      "source": [
        "# Answer here (use both of these functions on an array of your own choice)\n",
        "\n",
        "a = np.arange(1,10)\n",
        "print(a)\n",
        "print()\n",
        "\n",
        "print(\"add=\",np.add.reduce(a))\n",
        "print()\n",
        "\n",
        "print(\"product=\",np.multiply.reduce(a))\n",
        "print()\n",
        "\n",
        "print(\"min=\",np.minimum.reduce(a))\n",
        "print()\n",
        "\n",
        "print(\"max=\",np.maximum.reduce(a))\n",
        "print()\n",
        "\n",
        "# Accumulate operations\n",
        "\n",
        "print(\"accumulate=\",np.add.accumulate(a))\n",
        "print()\n",
        "\n",
        "print(\"product=\",np.multiply.accumulate(a))\n",
        "print()\n",
        "\n",
        "print(\"min=\",np.minimum.accumulate(a))\n",
        "print()\n",
        "\n",
        "print(\"max=\",np.maximum.accumulate(a))\n",
        "print()"
      ]
    },
    {
      "cell_type": "markdown",
      "metadata": {
        "id": "bqVyb4DKZmkR"
      },
      "source": [
        "### We will work with the following array:"
      ]
    },
    {
      "cell_type": "code",
      "execution_count": 128,
      "metadata": {
        "colab": {
          "base_uri": "https://localhost:8080/"
        },
        "id": "Iz86eeTWZmsK",
        "outputId": "ebdeb278-2493-4e3a-e567-501fc505e529"
      },
      "outputs": [
        {
          "output_type": "stream",
          "name": "stdout",
          "text": [
            "[[ 0  1  2  3  4]\n",
            " [ 5  6  7  8  9]\n",
            " [10 11 12 13 14]\n",
            " [15 16 17 18 19]\n",
            " [20 21 22 23 24]]\n"
          ]
        }
      ],
      "source": [
        "a = np.arange(25).reshape(5, 5)\n",
        "print(a)\n",
        "# made a array"
      ]
    },
    {
      "cell_type": "markdown",
      "metadata": {
        "id": "OdjK0hqobWGp"
      },
      "source": [
        "# Use slicing only to select 3rd and last row along with 2nd and last columns"
      ]
    },
    {
      "cell_type": "code",
      "execution_count": 129,
      "metadata": {
        "id": "-iw2ciaibUHU",
        "colab": {
          "base_uri": "https://localhost:8080/"
        },
        "outputId": "a53ea798-cba7-4fca-84c7-4de92b9d9117"
      },
      "outputs": [
        {
          "output_type": "execute_result",
          "data": {
            "text/plain": [
              "array([[11, 14],\n",
              "       [21, 24]])"
            ]
          },
          "metadata": {},
          "execution_count": 129
        }
      ],
      "source": [
        "# Getting the required elements\n",
        "a[[2,-1],:][:,[1,-1]]"
      ]
    },
    {
      "cell_type": "markdown",
      "metadata": {
        "id": "5PtInLvEb7Am"
      },
      "source": [
        "# Extract the following sub-array: [[2, 3], [12, 13], [22, 23]]"
      ]
    },
    {
      "cell_type": "code",
      "execution_count": 130,
      "metadata": {
        "id": "lVi9eV2rb6hz",
        "colab": {
          "base_uri": "https://localhost:8080/"
        },
        "outputId": "7128e18d-7ff9-431e-e64d-fabe6668b673"
      },
      "outputs": [
        {
          "output_type": "execute_result",
          "data": {
            "text/plain": [
              "array([[ 2,  3],\n",
              "       [12, 13],\n",
              "       [22, 23]])"
            ]
          },
          "metadata": {},
          "execution_count": 130
        }
      ],
      "source": [
        "# The sub array is obtained\n",
        "\n",
        "a[[0,2,4],:][:,[2,3]]\n"
      ]
    },
    {
      "cell_type": "markdown",
      "metadata": {
        "id": "mHN-ADlNcRE7"
      },
      "source": [
        "# Combine fancy/location indexing with slicing to extract the following sub-array: [[6, 8], [16, 18], [21, 23]]"
      ]
    },
    {
      "cell_type": "code",
      "execution_count": 131,
      "metadata": {
        "id": "e_R0tbMHcNGy",
        "colab": {
          "base_uri": "https://localhost:8080/"
        },
        "outputId": "27e6061b-c7d9-4d33-cf99-627baa8843ca"
      },
      "outputs": [
        {
          "output_type": "execute_result",
          "data": {
            "text/plain": [
              "array([[ 6,  8],\n",
              "       [16, 18],\n",
              "       [21, 23]])"
            ]
          },
          "metadata": {},
          "execution_count": 131
        }
      ],
      "source": [
        "# Using fancy indexing\n",
        "a[[1,3,4],:][:,[1,3]]"
      ]
    },
    {
      "cell_type": "markdown",
      "metadata": {
        "id": "gRle44JLc8oL"
      },
      "source": [
        "# Change the values 1, 10, 19 and 22 in the array to -2"
      ]
    },
    {
      "cell_type": "code",
      "execution_count": 132,
      "metadata": {
        "id": "MnIs-SBzdMPv",
        "colab": {
          "base_uri": "https://localhost:8080/"
        },
        "outputId": "849ecb9c-1ba9-432f-f06b-7d97a0746c84"
      },
      "outputs": [
        {
          "output_type": "stream",
          "name": "stdout",
          "text": [
            "[[ 0 -2  2  3  4]\n",
            " [ 5  6  7  8  9]\n",
            " [-2 11 12 13 14]\n",
            " [15 16 17 18 -2]\n",
            " [20 21 -2 23 24]]\n"
          ]
        }
      ],
      "source": [
        "# Answer\n",
        "a[[0,2,3,4],[1,0,4,2]]= -2\n",
        "print(a)\n",
        "\n",
        "# Since the values have been changed in original array"
      ]
    },
    {
      "cell_type": "markdown",
      "metadata": {
        "id": "tWSQO5e3dZxf"
      },
      "source": [
        "# Repeat above using boolean indexing"
      ]
    },
    {
      "cell_type": "code",
      "source": [
        "# Using Boolean\n",
        "a = np.arange(25).reshape(5, 5)\n",
        "values_to_change = [1, 10, 19, 22]\n",
        "mask = np.isin(a, values_to_change)\n",
        "a[mask] = -2\n",
        "print(a)"
      ],
      "metadata": {
        "colab": {
          "base_uri": "https://localhost:8080/"
        },
        "id": "CF8Pi2xzp3BA",
        "outputId": "16fc73a4-6d46-4910-c01b-0d6bae89588b"
      },
      "execution_count": 133,
      "outputs": [
        {
          "output_type": "stream",
          "name": "stdout",
          "text": [
            "[[ 0 -2  2  3  4]\n",
            " [ 5  6  7  8  9]\n",
            " [-2 11 12 13 14]\n",
            " [15 16 17 18 -2]\n",
            " [20 21 -2 23 24]]\n"
          ]
        }
      ]
    },
    {
      "cell_type": "markdown",
      "metadata": {
        "id": "2i_7lkqpdhtx"
      },
      "source": [
        "# Combine slicing in the column dimension and boolean indexing in row dimension to extract the following sub-array: [[0, 3], [10, 13], [15, 18]]"
      ]
    },
    {
      "cell_type": "code",
      "execution_count": 134,
      "metadata": {
        "id": "O8683ef2dYng",
        "colab": {
          "base_uri": "https://localhost:8080/"
        },
        "outputId": "9ec2ccdf-a896-41ed-b5b2-71c1d90bc87f"
      },
      "outputs": [
        {
          "output_type": "execute_result",
          "data": {
            "text/plain": [
              "array([[ 0,  3],\n",
              "       [10, 13],\n",
              "       [15, 18]])"
            ]
          },
          "metadata": {},
          "execution_count": 134
        }
      ],
      "source": [
        "# using booliana\n",
        "\n",
        "a = np.arange(25).reshape(5, 5)\n",
        "#moving forward, you must use this array for the operations\n",
        "a[[0,2,3],:][:,[0,3]]\n"
      ]
    },
    {
      "cell_type": "markdown",
      "metadata": {
        "id": "BLH29N-KLDEJ"
      },
      "source": [
        "# Calculating the sum, min and max of all diagonal values"
      ]
    },
    {
      "cell_type": "code",
      "execution_count": 135,
      "metadata": {
        "id": "ARzj6VP9LCPz",
        "colab": {
          "base_uri": "https://localhost:8080/"
        },
        "outputId": "61889c14-7fd3-493b-d96a-8365ea3beb1b"
      },
      "outputs": [
        {
          "output_type": "stream",
          "name": "stdout",
          "text": [
            "[[ 0  1  2  3  4]\n",
            " [ 5  6  7  8  9]\n",
            " [10 11 12 13 14]\n",
            " [15 16 17 18 19]\n",
            " [20 21 22 23 24]]\n",
            "sum =  60\n",
            "\n",
            "min =  0\n",
            "\n",
            "max =  24\n",
            "\n"
          ]
        }
      ],
      "source": [
        "# Answer here\n",
        "array = np.arange(25).reshape(5, 5)\n",
        "print(array)\n",
        "\n",
        "diagonals = np.diag(array)\n",
        "diagonals\n",
        "\n",
        "# sum of diagonals\n",
        "print(\"sum = \",np.sum(diagonals))\n",
        "print()\n",
        "\n",
        "# min of diagonals\n",
        "print(\"min = \",np.min(diagonals))\n",
        "print()\n",
        "\n",
        "# max of diagonals\n",
        "print(\"max = \",np.max(diagonals))\n",
        "print()"
      ]
    },
    {
      "cell_type": "markdown",
      "metadata": {
        "id": "IIL3aHfpMQpr"
      },
      "source": [
        "# Calculate the sum of differences between the 2nd row and 2nd last column"
      ]
    },
    {
      "cell_type": "code",
      "execution_count": 136,
      "metadata": {
        "id": "mNyxI8d0Mcvz",
        "colab": {
          "base_uri": "https://localhost:8080/"
        },
        "outputId": "247f5aae-0a80-4836-b5c9-1ab8af083705"
      },
      "outputs": [
        {
          "output_type": "stream",
          "name": "stdout",
          "text": [
            "[[ 0  1  2  3  4]\n",
            " [ 5  6  7  8  9]\n",
            " [10 11 12 13 14]\n",
            " [15 16 17 18 19]\n",
            " [20 21 22 23 24]]\n",
            "\n",
            "-35\n"
          ]
        }
      ],
      "source": [
        "array = np.arange(25).reshape(5,5)\n",
        "print(array)\n",
        "print()\n",
        "\n",
        "# Now calculating the sum of difference of second row and last column\n",
        "\n",
        "row = array[1,:]\n",
        "column = array[:,-1]\n",
        "difference = row - column\n",
        "sum = np.sum(difference)\n",
        "print(sum)\n",
        "\n",
        "\n",
        "\n"
      ]
    },
    {
      "cell_type": "markdown",
      "metadata": {
        "id": "jEo7E6YNNIU5"
      },
      "source": [
        "# Create a new array that is the sum of even rows and odd rows"
      ]
    },
    {
      "cell_type": "code",
      "execution_count": 137,
      "metadata": {
        "id": "UEwbxwAPNikT",
        "colab": {
          "base_uri": "https://localhost:8080/"
        },
        "outputId": "be0e1239-882c-4cde-9628-ddef4bd4860d"
      },
      "outputs": [
        {
          "output_type": "stream",
          "name": "stdout",
          "text": [
            "[[ 0  1  2  3  4]\n",
            " [ 5  6  7  8  9]\n",
            " [10 11 12 13 14]\n",
            " [15 16 17 18 19]\n",
            " [20 21 22 23 24]]\n",
            "\n",
            "row containing sum of even rows\n",
            "[30 33 36 39 42]\n",
            "\n",
            "row containing sum of odd rows\n",
            "[20 22 24 26 28]\n"
          ]
        }
      ],
      "source": [
        "array\n",
        "print(array)\n",
        "print()\n",
        "\n",
        "# Creating array that is the sum of even rows and odd rows\n",
        "even_rows_sum = np.sum(array[::2],axis = 0)\n",
        "print(\"row containing sum of even rows\")\n",
        "print(even_rows_sum)\n",
        "print()\n",
        "\n",
        "odd_rows_sum = np.sum(array[1::2],axis = 0)\n",
        "print(\"row containing sum of odd rows\")\n",
        "print(odd_rows_sum)"
      ]
    },
    {
      "cell_type": "markdown",
      "metadata": {
        "id": "TaKXFf_5d67q"
      },
      "source": [
        "## You are done. Good job!"
      ]
    }
  ],
  "metadata": {
    "colab": {
      "provenance": []
    },
    "kernelspec": {
      "display_name": "Python 3",
      "name": "python3"
    },
    "language_info": {
      "name": "python"
    }
  },
  "nbformat": 4,
  "nbformat_minor": 0
}